{
 "cells": [
  {
   "cell_type": "code",
   "execution_count": 2,
   "id": "769aa8d2",
   "metadata": {},
   "outputs": [
    {
     "name": "stdout",
     "output_type": "stream",
     "text": [
      "Project Setup Check\n",
      "  Root: c:\\Users\\srija\\OneDrive\\Desktop\\OSI_SERVICE\n",
      "  DATASET exists: True\n",
      "  data/ folder ready: True\n",
      "  utils/ found: True\n",
      "\n",
      "Datasets in DATASET/ folder:\n",
      "  → cost_breakdown.csv\n",
      "  → customer_feedback.csv\n",
      "  → delivery_performance.csv\n",
      "  → orders.csv\n",
      "  → routes_distance.csv\n",
      "  → vehicle_fleet.csv\n",
      "  → warehouse_inventory.csv\n",
      "\n",
      "Setup complete! Ready for EDA.\n"
     ]
    }
   ],
   "source": [
    "# CELL 1: Setup & Imports\n",
    "import pandas as pd\n",
    "import numpy as np\n",
    "import matplotlib.pyplot as plt\n",
    "import seaborn as sns\n",
    "import plotly.express as px\n",
    "import plotly.graph_objects as go\n",
    "from pathlib import Path\n",
    "import warnings\n",
    "\n",
    "# Suppress warnings\n",
    "warnings.filterwarnings(\"ignore\")\n",
    "\n",
    "# --- Visual Styling ---\n",
    "plt.style.use('seaborn-v0_8-darkgrid')\n",
    "sns.set_palette(\"husl\")\n",
    "%matplotlib inline\n",
    "pd.set_option('display.max_columns', 100)\n",
    "\n",
    "# --- Project Paths (Robust) ---\n",
    "ROOT = Path.cwd().parent  \n",
    "DATASET_PATH = ROOT / \"DATASET\"\n",
    "DATA_PATH = ROOT / \"data\"\n",
    "UTILS_PATH = ROOT / \"utils\"\n",
    "\n",
    "# Create data/ if missing\n",
    "DATA_PATH.mkdir(exist_ok=True)\n",
    "\n",
    "print(\"Project Setup Check\")\n",
    "print(f\"  Root: {ROOT}\")\n",
    "print(f\"  DATASET exists: {DATASET_PATH.exists()}\")\n",
    "print(f\"  data/ folder ready: {DATA_PATH.exists()}\")\n",
    "print(f\"  utils/ found: {UTILS_PATH.exists()}\")\n",
    "\n",
    "print(\"\\nDatasets in DATASET/ folder:\")\n",
    "for f in sorted(DATASET_PATH.glob(\"*.csv\")):\n",
    "    print(f\"  → {f.name}\")\n",
    "\n",
    "print(\"\\nSetup complete! Ready for EDA.\")"
   ]
  },
  {
   "cell_type": "code",
   "execution_count": 5,
   "id": "783e5dc1",
   "metadata": {},
   "outputs": [
    {
     "name": "stdout",
     "output_type": "stream",
     "text": [
      "Python path updated: c:\\Users\\srija\\OneDrive\\Desktop\\OSI_SERVICE\n",
      "\n",
      "Loading 7 datasets...\n",
      "\n",
      "Starting data load from: c:\\Users\\srija\\OneDrive\\Desktop\\OSI_SERVICE\\DATASET\n",
      "\n",
      "Loading orders.csv...\n",
      "  → Parsed date: Order_Date\n",
      "  → 200 rows → stored as 'orders'\n",
      "\n",
      "Loading routes_distance.csv...\n",
      "  → 150 rows → stored as 'routes'\n",
      "\n",
      "Loading delivery_performance.csv...\n",
      "  → 150 rows → stored as 'delivery'\n",
      "\n",
      "Loading cost_breakdown.csv...\n",
      "  → 150 rows → stored as 'cost'\n",
      "\n",
      "Loading customer_feedback.csv...\n",
      "  → Parsed date: Feedback_Date\n",
      "  → 83 rows → stored as 'feedback'\n",
      "\n",
      "Loading vehicle_fleet.csv...\n",
      "  → 50 rows → stored as 'fleet'\n",
      "\n",
      "Loading warehouse_inventory.csv...\n",
      "  → Parsed date: Last_Restocked_Date\n",
      "  → 35 rows → stored as 'inventory'\n",
      "\n",
      "All 7 datasets loaded and cleaned!\n",
      "\n",
      "Loaded 7 datasets:\n",
      "  → orders: 200 rows, 9 cols\n",
      "  → routes: 150 rows, 7 cols\n",
      "  → delivery: 150 rows, 8 cols\n",
      "  → cost: 150 rows, 8 cols\n",
      "  → feedback: 83 rows, 6 cols\n",
      "  → fleet: 50 rows, 8 cols\n",
      "  → inventory: 35 rows, 7 cols\n",
      "\n",
      "Sample 'orders':\n"
     ]
    },
    {
     "data": {
      "text/html": [
       "<div>\n",
       "<style scoped>\n",
       "    .dataframe tbody tr th:only-of-type {\n",
       "        vertical-align: middle;\n",
       "    }\n",
       "\n",
       "    .dataframe tbody tr th {\n",
       "        vertical-align: top;\n",
       "    }\n",
       "\n",
       "    .dataframe thead th {\n",
       "        text-align: right;\n",
       "    }\n",
       "</style>\n",
       "<table border=\"1\" class=\"dataframe\">\n",
       "  <thead>\n",
       "    <tr style=\"text-align: right;\">\n",
       "      <th></th>\n",
       "      <th>Order_ID</th>\n",
       "      <th>Order_Date</th>\n",
       "      <th>Customer_Segment</th>\n",
       "      <th>Priority</th>\n",
       "      <th>Product_Category</th>\n",
       "      <th>Order_Value_INR</th>\n",
       "      <th>Origin</th>\n",
       "      <th>Destination</th>\n",
       "      <th>Special_Handling</th>\n",
       "    </tr>\n",
       "  </thead>\n",
       "  <tbody>\n",
       "    <tr>\n",
       "      <th>0</th>\n",
       "      <td>ORD000001</td>\n",
       "      <td>2025-10-09</td>\n",
       "      <td>Individual</td>\n",
       "      <td>Express</td>\n",
       "      <td>Industrial</td>\n",
       "      <td>238.73</td>\n",
       "      <td>Kolkata</td>\n",
       "      <td>Hyderabad</td>\n",
       "      <td>NaN</td>\n",
       "    </tr>\n",
       "    <tr>\n",
       "      <th>1</th>\n",
       "      <td>ORD000002</td>\n",
       "      <td>2025-09-29</td>\n",
       "      <td>SMB</td>\n",
       "      <td>Express</td>\n",
       "      <td>Industrial</td>\n",
       "      <td>17.01</td>\n",
       "      <td>Hyderabad</td>\n",
       "      <td>Kolkata</td>\n",
       "      <td>NaN</td>\n",
       "    </tr>\n",
       "    <tr>\n",
       "      <th>2</th>\n",
       "      <td>ORD000003</td>\n",
       "      <td>2025-09-15</td>\n",
       "      <td>SMB</td>\n",
       "      <td>Economy</td>\n",
       "      <td>Industrial</td>\n",
       "      <td>3024.95</td>\n",
       "      <td>Mumbai</td>\n",
       "      <td>Pune</td>\n",
       "      <td>NaN</td>\n",
       "    </tr>\n",
       "  </tbody>\n",
       "</table>\n",
       "</div>"
      ],
      "text/plain": [
       "    Order_ID Order_Date Customer_Segment Priority Product_Category  \\\n",
       "0  ORD000001 2025-10-09       Individual  Express       Industrial   \n",
       "1  ORD000002 2025-09-29              SMB  Express       Industrial   \n",
       "2  ORD000003 2025-09-15              SMB  Economy       Industrial   \n",
       "\n",
       "   Order_Value_INR     Origin Destination Special_Handling  \n",
       "0           238.73    Kolkata   Hyderabad              NaN  \n",
       "1            17.01  Hyderabad     Kolkata              NaN  \n",
       "2          3024.95     Mumbai        Pune              NaN  "
      ]
     },
     "metadata": {},
     "output_type": "display_data"
    },
    {
     "name": "stdout",
     "output_type": "stream",
     "text": [
      "Sample 'delivery':\n"
     ]
    },
    {
     "data": {
      "text/html": [
       "<div>\n",
       "<style scoped>\n",
       "    .dataframe tbody tr th:only-of-type {\n",
       "        vertical-align: middle;\n",
       "    }\n",
       "\n",
       "    .dataframe tbody tr th {\n",
       "        vertical-align: top;\n",
       "    }\n",
       "\n",
       "    .dataframe thead th {\n",
       "        text-align: right;\n",
       "    }\n",
       "</style>\n",
       "<table border=\"1\" class=\"dataframe\">\n",
       "  <thead>\n",
       "    <tr style=\"text-align: right;\">\n",
       "      <th></th>\n",
       "      <th>Order_ID</th>\n",
       "      <th>Carrier</th>\n",
       "      <th>Promised_Delivery_Days</th>\n",
       "      <th>Actual_Delivery_Days</th>\n",
       "      <th>Delivery_Status</th>\n",
       "      <th>Quality_Issue</th>\n",
       "      <th>Customer_Rating</th>\n",
       "      <th>Delivery_Cost_INR</th>\n",
       "    </tr>\n",
       "  </thead>\n",
       "  <tbody>\n",
       "    <tr>\n",
       "      <th>0</th>\n",
       "      <td>ORD000001</td>\n",
       "      <td>SpeedyLogistics</td>\n",
       "      <td>1</td>\n",
       "      <td>2</td>\n",
       "      <td>Slightly-Delayed</td>\n",
       "      <td>Perfect</td>\n",
       "      <td>3</td>\n",
       "      <td>387.86</td>\n",
       "    </tr>\n",
       "    <tr>\n",
       "      <th>1</th>\n",
       "      <td>ORD000002</td>\n",
       "      <td>SpeedyLogistics</td>\n",
       "      <td>2</td>\n",
       "      <td>3</td>\n",
       "      <td>Slightly-Delayed</td>\n",
       "      <td>Minor_Damage</td>\n",
       "      <td>1</td>\n",
       "      <td>430.19</td>\n",
       "    </tr>\n",
       "    <tr>\n",
       "      <th>2</th>\n",
       "      <td>ORD000003</td>\n",
       "      <td>SpeedyLogistics</td>\n",
       "      <td>10</td>\n",
       "      <td>15</td>\n",
       "      <td>Severely-Delayed</td>\n",
       "      <td>Minor_Damage</td>\n",
       "      <td>3</td>\n",
       "      <td>1039.19</td>\n",
       "    </tr>\n",
       "  </tbody>\n",
       "</table>\n",
       "</div>"
      ],
      "text/plain": [
       "    Order_ID          Carrier  Promised_Delivery_Days  Actual_Delivery_Days  \\\n",
       "0  ORD000001  SpeedyLogistics                       1                     2   \n",
       "1  ORD000002  SpeedyLogistics                       2                     3   \n",
       "2  ORD000003  SpeedyLogistics                      10                    15   \n",
       "\n",
       "    Delivery_Status Quality_Issue  Customer_Rating  Delivery_Cost_INR  \n",
       "0  Slightly-Delayed       Perfect                3             387.86  \n",
       "1  Slightly-Delayed  Minor_Damage                1             430.19  \n",
       "2  Severely-Delayed  Minor_Damage                3            1039.19  "
      ]
     },
     "metadata": {},
     "output_type": "display_data"
    }
   ],
   "source": [
    "# CELL 2: Load All Datasets (Final Working Version)\n",
    "import sys\n",
    "from pathlib import Path\n",
    "\n",
    "# --- Fix Import Path ---\n",
    "ROOT = Path.cwd().parent\n",
    "if str(ROOT) not in sys.path:\n",
    "    sys.path.insert(0, str(ROOT))\n",
    "print(f\"Python path updated: {ROOT}\")\n",
    "\n",
    "# --- Import data loader ---\n",
    "from utils.data_loader import load_and_preprocess\n",
    "\n",
    "print(\"\\nLoading 7 datasets...\\n\")\n",
    "data = load_and_preprocess()\n",
    "\n",
    "# Assign variables\n",
    "orders = data['orders']\n",
    "routes = data['routes']\n",
    "delivery = data['delivery']\n",
    "cost = data['cost']\n",
    "feedback = data['feedback']\n",
    "fleet = data['fleet']\n",
    "inventory = data['inventory']\n",
    "\n",
    "print(f\"\\nLoaded {len(data)} datasets:\")\n",
    "for name, df in data.items():\n",
    "    print(f\"  → {name}: {df.shape[0]} rows, {df.shape[1]} cols\")\n",
    "\n",
    "print(\"\\nSample 'orders':\")\n",
    "display(orders.head(3))\n",
    "\n",
    "print(\"Sample 'delivery':\")\n",
    "display(delivery.head(3))"
   ]
  },
  {
   "cell_type": "code",
   "execution_count": 19,
   "id": "bebf89f9",
   "metadata": {},
   "outputs": [
    {
     "name": "stdout",
     "output_type": "stream",
     "text": [
      "Merging all datasets on 'Order_ID'...\n",
      "\n",
      "Master DataFrame created: 200 rows, 34 columns\n",
      "  → Covers 200 unique orders\n",
      "\n",
      "Sample of merged data:\n"
     ]
    },
    {
     "data": {
      "text/html": [
       "<div>\n",
       "<style scoped>\n",
       "    .dataframe tbody tr th:only-of-type {\n",
       "        vertical-align: middle;\n",
       "    }\n",
       "\n",
       "    .dataframe tbody tr th {\n",
       "        vertical-align: top;\n",
       "    }\n",
       "\n",
       "    .dataframe thead th {\n",
       "        text-align: right;\n",
       "    }\n",
       "</style>\n",
       "<table border=\"1\" class=\"dataframe\">\n",
       "  <thead>\n",
       "    <tr style=\"text-align: right;\">\n",
       "      <th></th>\n",
       "      <th>0</th>\n",
       "      <th>1</th>\n",
       "      <th>2</th>\n",
       "    </tr>\n",
       "  </thead>\n",
       "  <tbody>\n",
       "    <tr>\n",
       "      <th>Order_ID</th>\n",
       "      <td>ORD000001</td>\n",
       "      <td>ORD000002</td>\n",
       "      <td>ORD000003</td>\n",
       "    </tr>\n",
       "    <tr>\n",
       "      <th>Order_Date</th>\n",
       "      <td>2025-10-09 00:00:00</td>\n",
       "      <td>2025-09-29 00:00:00</td>\n",
       "      <td>2025-09-15 00:00:00</td>\n",
       "    </tr>\n",
       "    <tr>\n",
       "      <th>Customer_Segment</th>\n",
       "      <td>Individual</td>\n",
       "      <td>SMB</td>\n",
       "      <td>SMB</td>\n",
       "    </tr>\n",
       "    <tr>\n",
       "      <th>Priority</th>\n",
       "      <td>Express</td>\n",
       "      <td>Express</td>\n",
       "      <td>Economy</td>\n",
       "    </tr>\n",
       "    <tr>\n",
       "      <th>Product_Category</th>\n",
       "      <td>Industrial</td>\n",
       "      <td>Industrial</td>\n",
       "      <td>Industrial</td>\n",
       "    </tr>\n",
       "    <tr>\n",
       "      <th>Order_Value_INR</th>\n",
       "      <td>238.73</td>\n",
       "      <td>17.01</td>\n",
       "      <td>3024.95</td>\n",
       "    </tr>\n",
       "    <tr>\n",
       "      <th>Origin</th>\n",
       "      <td>Kolkata</td>\n",
       "      <td>Hyderabad</td>\n",
       "      <td>Mumbai</td>\n",
       "    </tr>\n",
       "    <tr>\n",
       "      <th>Destination</th>\n",
       "      <td>Hyderabad</td>\n",
       "      <td>Kolkata</td>\n",
       "      <td>Pune</td>\n",
       "    </tr>\n",
       "    <tr>\n",
       "      <th>Special_Handling</th>\n",
       "      <td>NaN</td>\n",
       "      <td>NaN</td>\n",
       "      <td>NaN</td>\n",
       "    </tr>\n",
       "    <tr>\n",
       "      <th>Route</th>\n",
       "      <td>Kolkata-Hyderabad</td>\n",
       "      <td>Hyderabad-Kolkata</td>\n",
       "      <td>Mumbai-Pune</td>\n",
       "    </tr>\n",
       "    <tr>\n",
       "      <th>Distance_KM</th>\n",
       "      <td>152.59</td>\n",
       "      <td>362.05</td>\n",
       "      <td>519.74</td>\n",
       "    </tr>\n",
       "    <tr>\n",
       "      <th>Fuel_Consumption_L</th>\n",
       "      <td>23.02</td>\n",
       "      <td>43.98</td>\n",
       "      <td>65.75</td>\n",
       "    </tr>\n",
       "    <tr>\n",
       "      <th>Toll_Charges_INR</th>\n",
       "      <td>122.08</td>\n",
       "      <td>289.64</td>\n",
       "      <td>415.79</td>\n",
       "    </tr>\n",
       "    <tr>\n",
       "      <th>Traffic_Delay_Minutes</th>\n",
       "      <td>21.0</td>\n",
       "      <td>33.0</td>\n",
       "      <td>2.0</td>\n",
       "    </tr>\n",
       "    <tr>\n",
       "      <th>Weather_Impact</th>\n",
       "      <td>NaN</td>\n",
       "      <td>NaN</td>\n",
       "      <td>NaN</td>\n",
       "    </tr>\n",
       "    <tr>\n",
       "      <th>Carrier</th>\n",
       "      <td>SpeedyLogistics</td>\n",
       "      <td>SpeedyLogistics</td>\n",
       "      <td>SpeedyLogistics</td>\n",
       "    </tr>\n",
       "    <tr>\n",
       "      <th>Promised_Delivery_Days</th>\n",
       "      <td>1.0</td>\n",
       "      <td>2.0</td>\n",
       "      <td>10.0</td>\n",
       "    </tr>\n",
       "    <tr>\n",
       "      <th>Actual_Delivery_Days</th>\n",
       "      <td>2.0</td>\n",
       "      <td>3.0</td>\n",
       "      <td>15.0</td>\n",
       "    </tr>\n",
       "    <tr>\n",
       "      <th>Delivery_Status</th>\n",
       "      <td>Slightly-Delayed</td>\n",
       "      <td>Slightly-Delayed</td>\n",
       "      <td>Severely-Delayed</td>\n",
       "    </tr>\n",
       "    <tr>\n",
       "      <th>Quality_Issue</th>\n",
       "      <td>Perfect</td>\n",
       "      <td>Minor_Damage</td>\n",
       "      <td>Minor_Damage</td>\n",
       "    </tr>\n",
       "    <tr>\n",
       "      <th>Customer_Rating</th>\n",
       "      <td>3.0</td>\n",
       "      <td>1.0</td>\n",
       "      <td>3.0</td>\n",
       "    </tr>\n",
       "    <tr>\n",
       "      <th>Delivery_Cost_INR</th>\n",
       "      <td>387.86</td>\n",
       "      <td>430.19</td>\n",
       "      <td>1039.19</td>\n",
       "    </tr>\n",
       "    <tr>\n",
       "      <th>Fuel_Cost</th>\n",
       "      <td>151.36</td>\n",
       "      <td>157.32</td>\n",
       "      <td>322.61</td>\n",
       "    </tr>\n",
       "    <tr>\n",
       "      <th>Labor_Cost</th>\n",
       "      <td>110.31</td>\n",
       "      <td>146.2</td>\n",
       "      <td>319.74</td>\n",
       "    </tr>\n",
       "    <tr>\n",
       "      <th>Vehicle_Maintenance</th>\n",
       "      <td>53.0</td>\n",
       "      <td>51.61</td>\n",
       "      <td>128.03</td>\n",
       "    </tr>\n",
       "    <tr>\n",
       "      <th>Insurance</th>\n",
       "      <td>32.17</td>\n",
       "      <td>28.54</td>\n",
       "      <td>58.13</td>\n",
       "    </tr>\n",
       "    <tr>\n",
       "      <th>Packaging_Cost</th>\n",
       "      <td>37.46</td>\n",
       "      <td>21.74</td>\n",
       "      <td>102.91</td>\n",
       "    </tr>\n",
       "    <tr>\n",
       "      <th>Technology_Platform_Fee</th>\n",
       "      <td>43.77</td>\n",
       "      <td>48.64</td>\n",
       "      <td>92.06</td>\n",
       "    </tr>\n",
       "    <tr>\n",
       "      <th>Other_Overhead</th>\n",
       "      <td>30.38</td>\n",
       "      <td>38.74</td>\n",
       "      <td>55.45</td>\n",
       "    </tr>\n",
       "    <tr>\n",
       "      <th>Feedback_Date</th>\n",
       "      <td>NaT</td>\n",
       "      <td>2025-10-03 00:00:00</td>\n",
       "      <td>2025-09-30 00:00:00</td>\n",
       "    </tr>\n",
       "    <tr>\n",
       "      <th>Rating</th>\n",
       "      <td>NaN</td>\n",
       "      <td>1.0</td>\n",
       "      <td>3.0</td>\n",
       "    </tr>\n",
       "    <tr>\n",
       "      <th>Feedback_Text</th>\n",
       "      <td>NaN</td>\n",
       "      <td>Great service, very fast delivery!</td>\n",
       "      <td>Perfect condition, thank you</td>\n",
       "    </tr>\n",
       "    <tr>\n",
       "      <th>Would_Recommend</th>\n",
       "      <td>NaN</td>\n",
       "      <td>Yes</td>\n",
       "      <td>No</td>\n",
       "    </tr>\n",
       "    <tr>\n",
       "      <th>Issue_Category</th>\n",
       "      <td>NaN</td>\n",
       "      <td>Timing</td>\n",
       "      <td>Timing</td>\n",
       "    </tr>\n",
       "  </tbody>\n",
       "</table>\n",
       "</div>"
      ],
      "text/plain": [
       "                                           0  \\\n",
       "Order_ID                           ORD000001   \n",
       "Order_Date               2025-10-09 00:00:00   \n",
       "Customer_Segment                  Individual   \n",
       "Priority                             Express   \n",
       "Product_Category                  Industrial   \n",
       "Order_Value_INR                       238.73   \n",
       "Origin                               Kolkata   \n",
       "Destination                        Hyderabad   \n",
       "Special_Handling                         NaN   \n",
       "Route                      Kolkata-Hyderabad   \n",
       "Distance_KM                           152.59   \n",
       "Fuel_Consumption_L                     23.02   \n",
       "Toll_Charges_INR                      122.08   \n",
       "Traffic_Delay_Minutes                   21.0   \n",
       "Weather_Impact                           NaN   \n",
       "Carrier                      SpeedyLogistics   \n",
       "Promised_Delivery_Days                   1.0   \n",
       "Actual_Delivery_Days                     2.0   \n",
       "Delivery_Status             Slightly-Delayed   \n",
       "Quality_Issue                        Perfect   \n",
       "Customer_Rating                          3.0   \n",
       "Delivery_Cost_INR                     387.86   \n",
       "Fuel_Cost                             151.36   \n",
       "Labor_Cost                            110.31   \n",
       "Vehicle_Maintenance                     53.0   \n",
       "Insurance                              32.17   \n",
       "Packaging_Cost                         37.46   \n",
       "Technology_Platform_Fee                43.77   \n",
       "Other_Overhead                         30.38   \n",
       "Feedback_Date                            NaT   \n",
       "Rating                                   NaN   \n",
       "Feedback_Text                            NaN   \n",
       "Would_Recommend                          NaN   \n",
       "Issue_Category                           NaN   \n",
       "\n",
       "                                                          1  \\\n",
       "Order_ID                                          ORD000002   \n",
       "Order_Date                              2025-09-29 00:00:00   \n",
       "Customer_Segment                                        SMB   \n",
       "Priority                                            Express   \n",
       "Product_Category                                 Industrial   \n",
       "Order_Value_INR                                       17.01   \n",
       "Origin                                            Hyderabad   \n",
       "Destination                                         Kolkata   \n",
       "Special_Handling                                        NaN   \n",
       "Route                                     Hyderabad-Kolkata   \n",
       "Distance_KM                                          362.05   \n",
       "Fuel_Consumption_L                                    43.98   \n",
       "Toll_Charges_INR                                     289.64   \n",
       "Traffic_Delay_Minutes                                  33.0   \n",
       "Weather_Impact                                          NaN   \n",
       "Carrier                                     SpeedyLogistics   \n",
       "Promised_Delivery_Days                                  2.0   \n",
       "Actual_Delivery_Days                                    3.0   \n",
       "Delivery_Status                            Slightly-Delayed   \n",
       "Quality_Issue                                  Minor_Damage   \n",
       "Customer_Rating                                         1.0   \n",
       "Delivery_Cost_INR                                    430.19   \n",
       "Fuel_Cost                                            157.32   \n",
       "Labor_Cost                                            146.2   \n",
       "Vehicle_Maintenance                                   51.61   \n",
       "Insurance                                             28.54   \n",
       "Packaging_Cost                                        21.74   \n",
       "Technology_Platform_Fee                               48.64   \n",
       "Other_Overhead                                        38.74   \n",
       "Feedback_Date                           2025-10-03 00:00:00   \n",
       "Rating                                                  1.0   \n",
       "Feedback_Text            Great service, very fast delivery!   \n",
       "Would_Recommend                                         Yes   \n",
       "Issue_Category                                       Timing   \n",
       "\n",
       "                                                    2  \n",
       "Order_ID                                    ORD000003  \n",
       "Order_Date                        2025-09-15 00:00:00  \n",
       "Customer_Segment                                  SMB  \n",
       "Priority                                      Economy  \n",
       "Product_Category                           Industrial  \n",
       "Order_Value_INR                               3024.95  \n",
       "Origin                                         Mumbai  \n",
       "Destination                                      Pune  \n",
       "Special_Handling                                  NaN  \n",
       "Route                                     Mumbai-Pune  \n",
       "Distance_KM                                    519.74  \n",
       "Fuel_Consumption_L                              65.75  \n",
       "Toll_Charges_INR                               415.79  \n",
       "Traffic_Delay_Minutes                             2.0  \n",
       "Weather_Impact                                    NaN  \n",
       "Carrier                               SpeedyLogistics  \n",
       "Promised_Delivery_Days                           10.0  \n",
       "Actual_Delivery_Days                             15.0  \n",
       "Delivery_Status                      Severely-Delayed  \n",
       "Quality_Issue                            Minor_Damage  \n",
       "Customer_Rating                                   3.0  \n",
       "Delivery_Cost_INR                             1039.19  \n",
       "Fuel_Cost                                      322.61  \n",
       "Labor_Cost                                     319.74  \n",
       "Vehicle_Maintenance                            128.03  \n",
       "Insurance                                       58.13  \n",
       "Packaging_Cost                                 102.91  \n",
       "Technology_Platform_Fee                         92.06  \n",
       "Other_Overhead                                  55.45  \n",
       "Feedback_Date                     2025-09-30 00:00:00  \n",
       "Rating                                            3.0  \n",
       "Feedback_Text            Perfect condition, thank you  \n",
       "Would_Recommend                                    No  \n",
       "Issue_Category                                 Timing  "
      ]
     },
     "metadata": {},
     "output_type": "display_data"
    },
    {
     "name": "stdout",
     "output_type": "stream",
     "text": [
      "\n",
      "Master saved to: c:\\Users\\srija\\OneDrive\\Desktop\\OSI_SERVICE\\data\\master_order_level.csv\n"
     ]
    }
   ],
   "source": [
    "#  Merge All Datasets into Master Order-Level DataFrame\n",
    "print(\"Merging all datasets on 'Order_ID'...\\n\")\n",
    "\n",
    "order_df = orders.copy()\n",
    "# Left joins to preserve all orders\n",
    "order_df = order_df.merge(routes, on=\"Order_ID\", how=\"left\", suffixes=('', '_route'))\n",
    "order_df = order_df.merge(delivery, on=\"Order_ID\", how=\"left\", suffixes=('', '_del'))\n",
    "order_df = order_df.merge(cost, on=\"Order_ID\", how=\"left\", suffixes=('', '_cost'))\n",
    "order_df = order_df.merge(feedback, on=\"Order_ID\", how=\"left\", suffixes=('', '_fb'))\n",
    "\n",
    "\n",
    "print(f\"Master DataFrame created: {order_df.shape[0]} rows, {order_df.shape[1]} columns\")\n",
    "print(f\"  → Covers {order_df['Order_ID'].nunique()} unique orders\")\n",
    "\n",
    "\n",
    "# Show sample\n",
    "print(\"\\nSample of merged data:\")\n",
    "display(order_df.head(3).T)\n",
    "\n",
    "# Save for later use\n",
    "master_path = DATA_PATH / \"master_order_level.csv\"\n",
    "order_df.to_csv(master_path, index=False)\n",
    "print(f\"\\nMaster saved to: {master_path}\")"
   ]
  },
  {
   "cell_type": "code",
   "execution_count": 20,
   "id": "c022af92",
   "metadata": {},
   "outputs": [
    {
     "name": "stdout",
     "output_type": "stream",
     "text": [
      "Columns in cost DataFrame:\n",
      "['Order_ID', 'Fuel_Cost', 'Labor_Cost', 'Vehicle_Maintenance', 'Insurance', 'Packaging_Cost', 'Technology_Platform_Fee', 'Other_Overhead']\n"
     ]
    }
   ],
   "source": [
    "print(\"Columns in cost DataFrame:\")\n",
    "print(cost.columns.tolist())"
   ]
  },
  {
   "cell_type": "code",
   "execution_count": 21,
   "id": "996d9694",
   "metadata": {},
   "outputs": [
    {
     "name": "stdout",
     "output_type": "stream",
     "text": [
      "Starting Deep EDA + AI Feedback Analysis...\n",
      "\n",
      "DELAY INSIGHTS:\n",
      "  • On-time rate: 65.0%\n",
      "  • Severe delay rate (>2 days): 12.5%\n",
      "  • Avg delay when late: 2.3 days\n",
      "Using 7 cost columns\n",
      "\n",
      "COST IMPACT:\n",
      "  • Avg cost (on-time): ₹352\n",
      "  • Avg cost (delayed): ₹697 (+₹345)\n",
      "\n",
      "Starting AI Feedback Analysis (Groq + Llama 3.3)...\n",
      "  → Groq LLM initialized (llama-3.3-70b-versatile)\n",
      "  → Processing 10 unique feedback (limit 10)...\n",
      "    Error on 'Perfect condition, thank you...': Invalid json output: Here's the analysis of the feedback:\n",
      "\n",
      "**Category:** Other\n",
      "**Urgency:** Low\n",
      "**Action:** None\n",
      "\n",
      "Reasoning:\n",
      "- The customer mentions that the item is in \"Perfect condition\", which suggests that there are no issues with the product.\n",
      "- The customer expresses gratitude with \"thank you\", indicating a positive experience.\n",
      "- Since there are no issues mentioned, the category is \"Other\" (which can be interpreted as \"No issue\" or \"Positive feedback\").\n",
      "- The urgency is \"Low\" because there's no need for immediate action.\n",
      "- The action is \"None\" because the customer doesn't require any further assistance or compensation.\n",
      "For troubleshooting, visit: https://python.langchain.com/docs/troubleshooting/errors/OUTPUT_PARSING_FAILURE \n",
      "\n",
      "AI Analysis Complete: 9 tagged\n",
      "\n",
      "AI Tags Added:\n"
     ]
    },
    {
     "data": {
      "text/html": [
       "<div>\n",
       "<style scoped>\n",
       "    .dataframe tbody tr th:only-of-type {\n",
       "        vertical-align: middle;\n",
       "    }\n",
       "\n",
       "    .dataframe tbody tr th {\n",
       "        vertical-align: top;\n",
       "    }\n",
       "\n",
       "    .dataframe thead th {\n",
       "        text-align: right;\n",
       "    }\n",
       "</style>\n",
       "<table border=\"1\" class=\"dataframe\">\n",
       "  <thead>\n",
       "    <tr style=\"text-align: right;\">\n",
       "      <th></th>\n",
       "      <th>Feedback_Text</th>\n",
       "      <th>category</th>\n",
       "      <th>urgency</th>\n",
       "      <th>action</th>\n",
       "    </tr>\n",
       "  </thead>\n",
       "  <tbody>\n",
       "    <tr>\n",
       "      <th>1</th>\n",
       "      <td>Great service, very fast delivery!</td>\n",
       "      <td>Other</td>\n",
       "      <td>Low</td>\n",
       "      <td>None</td>\n",
       "    </tr>\n",
       "    <tr>\n",
       "      <th>6</th>\n",
       "      <td>Delayed by 3 days, not acceptable</td>\n",
       "      <td>Delay</td>\n",
       "      <td>High</td>\n",
       "      <td>Call Customer</td>\n",
       "    </tr>\n",
       "    <tr>\n",
       "      <th>8</th>\n",
       "      <td>Wrong item delivered</td>\n",
       "      <td>Wrong Item</td>\n",
       "      <td>High</td>\n",
       "      <td>Call Customer</td>\n",
       "    </tr>\n",
       "  </tbody>\n",
       "</table>\n",
       "</div>"
      ],
      "text/plain": [
       "                        Feedback_Text    category urgency         action\n",
       "1  Great service, very fast delivery!       Other     Low           None\n",
       "6   Delayed by 3 days, not acceptable       Delay    High  Call Customer\n",
       "8                Wrong item delivered  Wrong Item    High  Call Customer"
      ]
     },
     "metadata": {},
     "output_type": "display_data"
    },
    {
     "name": "stdout",
     "output_type": "stream",
     "text": [
      "\n",
      "Enhanced master saved → c:\\Users\\srija\\OneDrive\\Desktop\\OSI_SERVICE\\data\\master_enhanced_with_ai.csv\n"
     ]
    }
   ],
   "source": [
    "# CELL 4: Deep EDA + AI Integration (MODEL FIXED)\n",
    "import json\n",
    "import time\n",
    "from langchain_groq import ChatGroq\n",
    "from langchain_core.prompts import ChatPromptTemplate\n",
    "from langchain_core.output_parsers import JsonOutputParser\n",
    "\n",
    "print(\"Starting Deep EDA + AI Feedback Analysis...\\n\")\n",
    "\n",
    "# --- 1. Delay & Rating Analysis ---\n",
    "order_df['Delay_Days'] = order_df['Actual_Delivery_Days'] - order_df['Promised_Delivery_Days']\n",
    "order_df['Is_Delayed'] = order_df['Delay_Days'] > 0\n",
    "order_df['Severe_Delay'] = order_df['Delay_Days'] > 2\n",
    "\n",
    "print(\"DELAY INSIGHTS:\")\n",
    "print(f\"  • On-time rate: {(~order_df['Is_Delayed']).mean():.1%}\")\n",
    "print(f\"  • Severe delay rate (>2 days): {order_df['Severe_Delay'].mean():.1%}\")\n",
    "print(f\"  • Avg delay when late: {order_df.loc[order_df['Is_Delayed'], 'Delay_Days'].mean():.1f} days\")\n",
    "\n",
    "# --- 2. Cost of Poor CX (REAL COLUMNS) ---\n",
    "real_cost_cols = [\n",
    "    'Fuel_Cost', 'Labor_Cost', 'Vehicle_Maintenance', 'Insurance',\n",
    "    'Packaging_Cost', 'Technology_Platform_Fee', 'Other_Overhead'\n",
    "]\n",
    "\n",
    "missing = [col for col in real_cost_cols if col not in order_df.columns]\n",
    "if missing:\n",
    "    print(f\"Missing cost columns: {missing}\")\n",
    "else:\n",
    "    print(f\"Using {len(real_cost_cols)} cost columns\")\n",
    "\n",
    "order_df['Total_Cost'] = order_df[real_cost_cols].sum(axis=1, skipna=True)\n",
    "\n",
    "avg_cost_delayed = order_df.loc[order_df['Is_Delayed'], 'Total_Cost'].mean()\n",
    "avg_cost_ontime = order_df.loc[~order_df['Is_Delayed'], 'Total_Cost'].mean()\n",
    "\n",
    "print(f\"\\nCOST IMPACT:\")\n",
    "print(f\"  • Avg cost (on-time): ₹{avg_cost_ontime:.0f}\")\n",
    "print(f\"  • Avg cost (delayed): ₹{avg_cost_delayed:.0f} (+₹{avg_cost_delayed - avg_cost_ontime:.0f})\")\n",
    "\n",
    "# --- 3. AI Feedback Tagging (UPDATED MODEL) ---\n",
    "print(\"\\nStarting AI Feedback Analysis (Groq + Llama 3.3)...\")\n",
    "\n",
    "try:\n",
    "    llm = ChatGroq(model=\"llama-3.3-70b-versatile\", temperature=0, max_tokens=200)\n",
    "    print(\"  → Groq LLM initialized (llama-3.3-70b-versatile)\")\n",
    "\n",
    "    prompt = ChatPromptTemplate.from_template(\n",
    "        \"\"\"\n",
    "        Analyze feedback:\n",
    "        \"{text}\"\n",
    "        Return JSON:\n",
    "        - category: Delay | Damage | Wrong Item | Other\n",
    "        - urgency: High | Medium | Low\n",
    "        - action: Free Shipping | ₹500 Voucher | Call Customer | None\n",
    "        \"\"\"\n",
    "    )\n",
    "    parser = JsonOutputParser()\n",
    "    chain = prompt | llm | parser\n",
    "\n",
    "    feedback_texts = order_df.dropna(subset=['Feedback_Text'])['Feedback_Text'].unique()\n",
    "    ai_results = []\n",
    "\n",
    "    print(f\"  → Processing {len(feedback_texts)} unique feedback (limit 10)...\")\n",
    "\n",
    "    for i, text in enumerate(feedback_texts[:10]):\n",
    "        try:\n",
    "            result = chain.invoke({\"text\": text})\n",
    "            result['original_text'] = text\n",
    "            ai_results.append(result)\n",
    "            time.sleep(0.1)  # Rate limit\n",
    "        except Exception as e:\n",
    "            print(f\"    Error on '{text[:50]}...': {e}\")\n",
    "            continue\n",
    "\n",
    "    ai_df = pd.DataFrame(ai_results)\n",
    "    print(f\"\\nAI Analysis Complete: {len(ai_df)} tagged\")\n",
    "\n",
    "    # Merge AI tags\n",
    "    order_df = order_df.merge(ai_df[['original_text', 'category', 'urgency', 'action']], \n",
    "                             left_on='Feedback_Text', right_on='original_text', how='left')\n",
    "    order_df.drop(columns=['original_text'], inplace=True, errors='ignore')\n",
    "\n",
    "    print(\"\\nAI Tags Added:\")\n",
    "    display(order_df[['Feedback_Text', 'category', 'urgency', 'action']].dropna().head(3))\n",
    "\n",
    "except Exception as e:\n",
    "    print(f\"AI Setup Failed: {e}\")\n",
    "    print(\"  → Ensure .env has GROQ_API_KEY\")\n",
    "\n",
    "# --- 4. Save ---\n",
    "enhanced_path = DATA_PATH / \"master_enhanced_with_ai.csv\"\n",
    "order_df.to_csv(enhanced_path, index=False)\n",
    "print(f\"\\nEnhanced master saved → {enhanced_path}\")"
   ]
  },
  {
   "cell_type": "code",
   "execution_count": 60,
   "id": "12a95151",
   "metadata": {},
   "outputs": [
    {
     "name": "stdout",
     "output_type": "stream",
     "text": [
      "Columns in order_df:\n",
      "['Order_ID', 'Order_Date', 'Customer_Segment', 'Priority', 'Product_Category', 'Order_Value_INR', 'Origin', 'Destination', 'Special_Handling', 'Route', 'Distance_KM', 'Fuel_Consumption_L', 'Toll_Charges_INR', 'Traffic_Delay_Minutes', 'Weather_Impact', 'Carrier', 'Promised_Delivery_Days', 'Actual_Delivery_Days', 'Delivery_Status', 'Quality_Issue', 'Customer_Rating', 'Delivery_Cost_INR', 'Fuel_Cost', 'Labor_Cost', 'Vehicle_Maintenance', 'Insurance', 'Packaging_Cost', 'Technology_Platform_Fee', 'Other_Overhead', 'Feedback_Date', 'Rating', 'Feedback_Text', 'Would_Recommend', 'Issue_Category', 'Delay_Days', 'Is_Delayed', 'Severe_Delay', 'Total_Cost', 'category', 'urgency', 'action', 'Customer_ID', 'Sentiment', 'Sentiment_Score', 'Churned']\n"
     ]
    }
   ],
   "source": [
    "print(\"Columns in order_df:\")\n",
    "print(order_df.columns.tolist())"
   ]
  },
  {
   "cell_type": "code",
   "execution_count": 63,
   "id": "1fee885b",
   "metadata": {},
   "outputs": [
    {
     "name": "stdout",
     "output_type": "stream",
     "text": [
      "Starting XGBoost + SHAP + Visuals (FINAL)...\n",
      "\n",
      "Churn rate: 36.0%\n",
      "Feature matrix: 200 customers, 16 features\n",
      "\n",
      "AUC: 0.479\n",
      "              precision    recall  f1-score   support\n",
      "\n",
      "           0       0.64      0.69      0.67        26\n",
      "           1       0.33      0.29      0.31        14\n",
      "\n",
      "    accuracy                           0.55        40\n",
      "   macro avg       0.49      0.49      0.49        40\n",
      "weighted avg       0.53      0.55      0.54        40\n",
      "\n"
     ]
    },
    {
     "data": {
      "image/png": "[encoded data removed]",
      "text/plain": [
       "<Figure size 800x350 with 2 Axes>"
      ]
     },
     "metadata": {},
     "output_type": "display_data"
    },
    {
     "data": {
      "application/vnd.plotly.v1+json": {
       "config": {
        "plotlyServerURL": "https://plot.ly"
       },
       "data": [
        {
         "mode": "lines",
         "name": "AUC = 0.479",
         "type": "scatter",
         "x": {
          "bdata": "AAAAAAAAAAAUO7ETO7GjPxQ7sRM7saM/2Ymd2ImdyD/ZiZ3YiZ3IPxQ7sRM7sdM/FDuxEzux0z92Yid2YifWP57YiZ3Yid0/dmIndmIn5j92Yid2YifmP9mJndiJneg/ip3YiZ3Y6T+KndiJndjpPzuxEzuxE+s/O7ETO7ET6z/sxE7sxE7sP+zETuzETuw/ntiJndiJ7T+e2Imd2IntPwAAAAAAAPA/",
          "dtype": "f8"
         },
         "y": {
          "bdata": "AAAAAAAAAAAAAAAAAAAAANu2bdu2bcs/27Zt27Ztyz+SJEmSJEnSP5IkSZIkSdI/t23btm3b1j+3bdu2bdvWP9u2bdu2bds/27Zt27Zt2z8lSZIkSZLkP7dt27Zt2+Y/t23btm3b5j9JkiRJkiTpP0mSJEmSJOk/27Zt27Zt6z/btm3btm3rP27btm3btu0/btu2bdu27T8AAAAAAADwPwAAAAAAAPA/",
          "dtype": "f8"
         }
        },
        {
         "line": {
          "dash": "dash"
         },
         "mode": "lines",
         "type": "scatter",
         "x": [
          0,
          1
         ],
         "y": [
          0,
          1
         ]
        }
       ],
       "layout": {
        "template": {
         "data": {
          "bar": [
           {
            "error_x": {
             "color": "#f2f5fa"
            },
            "error_y": {
             "color": "#f2f5fa"
            },
            "marker": {
             "line": {
              "color": "rgb(17,17,17)",
              "width": 0.5
             },
             "pattern": {
              "fillmode": "overlay",
              "size": 10,
              "solidity": 0.2
             }
            },
            "type": "bar"
           }
          ],
          "barpolar": [
           {
            "marker": {
             "line": {
              "color": "rgb(17,17,17)",
              "width": 0.5
             },
             "pattern": {
              "fillmode": "overlay",
              "size": 10,
              "solidity": 0.2
             }
            },
            "type": "barpolar"
           }
          ],
          "carpet": [
           {
            "aaxis": {
             "endlinecolor": "#A2B1C6",
             "gridcolor": "#506784",
             "linecolor": "#506784",
             "minorgridcolor": "#506784",
             "startlinecolor": "#A2B1C6"
            },
            "baxis": {
             "endlinecolor": "#A2B1C6",
             "gridcolor": "#506784",
             "linecolor": "#506784",
             "minorgridcolor": "#506784",
             "startlinecolor": "#A2B1C6"
            },
            "type": "carpet"
           }
          ],
          "choropleth": [
           {
            "colorbar": {
             "outlinewidth": 0,
             "ticks": ""
            },
            "type": "choropleth"
           }
          ],
          "contour": [
           {
            "colorbar": {
             "outlinewidth": 0,
             "ticks": ""
            },
            "colorscale": [
             [
              0,
              "#0d0887"
             ],
             [
              0.1111111111111111,
              "#46039f"
             ],
             [
              0.2222222222222222,
              "#7201a8"
             ],
             [
              0.3333333333333333,
              "#9c179e"
             ],
             [
              0.4444444444444444,
              "#bd3786"
             ],
             [
              0.5555555555555556,
              "#d8576b"
             ],
             [
              0.6666666666666666,
              "#ed7953"
             ],
             [
              0.7777777777777778,
              "#fb9f3a"
             ],
             [
              0.8888888888888888,
              "#fdca26"
             ],
             [
              1,
              "#f0f921"
             ]
            ],
            "type": "contour"
           }
          ],
          "contourcarpet": [
           {
            "colorbar": {
             "outlinewidth": 0,
             "ticks": ""
            },
            "type": "contourcarpet"
           }
          ],
          "heatmap": [
           {
            "colorbar": {
             "outlinewidth": 0,
             "ticks": ""
            },
            "colorscale": [
             [
              0,
              "#0d0887"
             ],
             [
              0.1111111111111111,
              "#46039f"
             ],
             [
              0.2222222222222222,
              "#7201a8"
             ],
             [
              0.3333333333333333,
              "#9c179e"
             ],
             [
              0.4444444444444444,
              "#bd3786"
             ],
             [
              0.5555555555555556,
              "#d8576b"
             ],
             [
              0.6666666666666666,
              "#ed7953"
             ],
             [
              0.7777777777777778,
              "#fb9f3a"
             ],
             [
              0.8888888888888888,
              "#fdca26"
             ],
             [
              1,
              "#f0f921"
             ]
            ],
            "type": "heatmap"
           }
          ],
          "histogram": [
           {
            "marker": {
             "pattern": {
              "fillmode": "overlay",
              "size": 10,
              "solidity": 0.2
             }
            },
            "type": "histogram"
           }
          ],
          "histogram2d": [
           {
            "colorbar": {
             "outlinewidth": 0,
             "ticks": ""
            },
            "colorscale": [
             [
              0,
              "#0d0887"
             ],
             [
              0.1111111111111111,
              "#46039f"
             ],
             [
              0.2222222222222222,
              "#7201a8"
             ],
             [
              0.3333333333333333,
              "#9c179e"
             ],
             [
              0.4444444444444444,
              "#bd3786"
             ],
             [
              0.5555555555555556,
              "#d8576b"
             ],
             [
              0.6666666666666666,
              "#ed7953"
             ],
             [
              0.7777777777777778,
              "#fb9f3a"
             ],
             [
              0.8888888888888888,
              "#fdca26"
             ],
             [
              1,
              "#f0f921"
             ]
            ],
            "type": "histogram2d"
           }
          ],
          "histogram2dcontour": [
           {
            "colorbar": {
             "outlinewidth": 0,
             "ticks": ""
            },
            "colorscale": [
             [
              0,
              "#0d0887"
             ],
             [
              0.1111111111111111,
              "#46039f"
             ],
             [
              0.2222222222222222,
              "#7201a8"
             ],
             [
              0.3333333333333333,
              "#9c179e"
             ],
             [
              0.4444444444444444,
              "#bd3786"
             ],
             [
              0.5555555555555556,
              "#d8576b"
             ],
             [
              0.6666666666666666,
              "#ed7953"
             ],
             [
              0.7777777777777778,
              "#fb9f3a"
             ],
             [
              0.8888888888888888,
              "#fdca26"
             ],
             [
              1,
              "#f0f921"
             ]
            ],
            "type": "histogram2dcontour"
           }
          ],
          "mesh3d": [
           {
            "colorbar": {
             "outlinewidth": 0,
             "ticks": ""
            },
            "type": "mesh3d"
           }
          ],
          "parcoords": [
           {
            "line": {
             "colorbar": {
              "outlinewidth": 0,
              "ticks": ""
             }
            },
            "type": "parcoords"
           }
          ],
          "pie": [
           {
            "automargin": true,
            "type": "pie"
           }
          ],
          "scatter": [
           {
            "marker": {
             "line": {
              "color": "#283442"
             }
            },
            "type": "scatter"
           }
          ],
          "scatter3d": [
           {
            "line": {
             "colorbar": {
              "outlinewidth": 0,
              "ticks": ""
             }
            },
            "marker": {
             "colorbar": {
              "outlinewidth": 0,
              "ticks": ""
             }
            },
            "type": "scatter3d"
           }
          ],
          "scattercarpet": [
           {
            "marker": {
             "colorbar": {
              "outlinewidth": 0,
              "ticks": ""
             }
            },
            "type": "scattercarpet"
           }
          ],
          "scattergeo": [
           {
            "marker": {
             "colorbar": {
              "outlinewidth": 0,
              "ticks": ""
             }
            },
            "type": "scattergeo"
           }
          ],
          "scattergl": [
           {
            "marker": {
             "line": {
              "color": "#283442"
             }
            },
            "type": "scattergl"
           }
          ],
          "scattermap": [
           {
            "marker": {
             "colorbar": {
              "outlinewidth": 0,
              "ticks": ""
             }
            },
            "type": "scattermap"
           }
          ],
          "scattermapbox": [
           {
            "marker": {
             "colorbar": {
              "outlinewidth": 0,
              "ticks": ""
             }
            },
            "type": "scattermapbox"
           }
          ],
          "scatterpolar": [
           {
            "marker": {
             "colorbar": {
              "outlinewidth": 0,
              "ticks": ""
             }
            },
            "type": "scatterpolar"
           }
          ],
          "scatterpolargl": [
           {
            "marker": {
             "colorbar": {
              "outlinewidth": 0,
              "ticks": ""
             }
            },
            "type": "scatterpolargl"
           }
          ],
          "scatterternary": [
           {
            "marker": {
             "colorbar": {
              "outlinewidth": 0,
              "ticks": ""
             }
            },
            "type": "scatterternary"
           }
          ],
          "surface": [
           {
            "colorbar": {
             "outlinewidth": 0,
             "ticks": ""
            },
            "colorscale": [
             [
              0,
              "#0d0887"
             ],
             [
              0.1111111111111111,
              "#46039f"
             ],
             [
              0.2222222222222222,
              "#7201a8"
             ],
             [
              0.3333333333333333,
              "#9c179e"
             ],
             [
              0.4444444444444444,
              "#bd3786"
             ],
             [
              0.5555555555555556,
              "#d8576b"
             ],
             [
              0.6666666666666666,
              "#ed7953"
             ],
             [
              0.7777777777777778,
              "#fb9f3a"
             ],
             [
              0.8888888888888888,
              "#fdca26"
             ],
             [
              1,
              "#f0f921"
             ]
            ],
            "type": "surface"
           }
          ],
          "table": [
           {
            "cells": {
             "fill": {
              "color": "#506784"
             },
             "line": {
              "color": "rgb(17,17,17)"
             }
            },
            "header": {
             "fill": {
              "color": "#2a3f5f"
             },
             "line": {
              "color": "rgb(17,17,17)"
             }
            },
            "type": "table"
           }
          ]
         },
         "layout": {
          "annotationdefaults": {
           "arrowcolor": "#f2f5fa",
           "arrowhead": 0,
           "arrowwidth": 1
          },
          "autotypenumbers": "strict",
          "coloraxis": {
           "colorbar": {
            "outlinewidth": 0,
            "ticks": ""
           }
          },
          "colorscale": {
           "diverging": [
            [
             0,
             "#8e0152"
            ],
            [
             0.1,
             "#c51b7d"
            ],
            [
             0.2,
             "#de77ae"
            ],
            [
             0.3,
             "#f1b6da"
            ],
            [
             0.4,
             "#fde0ef"
            ],
            [
             0.5,
             "#f7f7f7"
            ],
            [
             0.6,
             "#e6f5d0"
            ],
            [
             0.7,
             "#b8e186"
            ],
            [
             0.8,
             "#7fbc41"
            ],
            [
             0.9,
             "#4d9221"
            ],
            [
             1,
             "#276419"
            ]
           ],
           "sequential": [
            [
             0,
             "#0d0887"
            ],
            [
             0.1111111111111111,
             "#46039f"
            ],
            [
             0.2222222222222222,
             "#7201a8"
            ],
            [
             0.3333333333333333,
             "#9c179e"
            ],
            [
             0.4444444444444444,
             "#bd3786"
            ],
            [
             0.5555555555555556,
             "#d8576b"
            ],
            [
             0.6666666666666666,
             "#ed7953"
            ],
            [
             0.7777777777777778,
             "#fb9f3a"
            ],
            [
             0.8888888888888888,
             "#fdca26"
            ],
            [
             1,
             "#f0f921"
            ]
           ],
           "sequentialminus": [
            [
             0,
             "#0d0887"
            ],
            [
             0.1111111111111111,
             "#46039f"
            ],
            [
             0.2222222222222222,
             "#7201a8"
            ],
            [
             0.3333333333333333,
             "#9c179e"
            ],
            [
             0.4444444444444444,
             "#bd3786"
            ],
            [
             0.5555555555555556,
             "#d8576b"
            ],
            [
             0.6666666666666666,
             "#ed7953"
            ],
            [
             0.7777777777777778,
             "#fb9f3a"
            ],
            [
             0.8888888888888888,
             "#fdca26"
            ],
            [
             1,
             "#f0f921"
            ]
           ]
          },
          "colorway": [
           "#636efa",
           "#EF553B",
           "#00cc96",
           "#ab63fa",
           "#FFA15A",
           "#19d3f3",
           "#FF6692",
           "#B6E880",
           "#FF97FF",
           "#FECB52"
          ],
          "font": {
           "color": "#f2f5fa"
          },
          "geo": {
           "bgcolor": "rgb(17,17,17)",
           "lakecolor": "rgb(17,17,17)",
           "landcolor": "rgb(17,17,17)",
           "showlakes": true,
           "showland": true,
           "subunitcolor": "#506784"
          },
          "hoverlabel": {
           "align": "left"
          },
          "hovermode": "closest",
          "mapbox": {
           "style": "dark"
          },
          "paper_bgcolor": "rgb(17,17,17)",
          "plot_bgcolor": "rgb(17,17,17)",
          "polar": {
           "angularaxis": {
            "gridcolor": "#506784",
            "linecolor": "#506784",
            "ticks": ""
           },
           "bgcolor": "rgb(17,17,17)",
           "radialaxis": {
            "gridcolor": "#506784",
            "linecolor": "#506784",
            "ticks": ""
           }
          },
          "scene": {
           "xaxis": {
            "backgroundcolor": "rgb(17,17,17)",
            "gridcolor": "#506784",
            "gridwidth": 2,
            "linecolor": "#506784",
            "showbackground": true,
            "ticks": "",
            "zerolinecolor": "#C8D4E3"
           },
           "yaxis": {
            "backgroundcolor": "rgb(17,17,17)",
            "gridcolor": "#506784",
            "gridwidth": 2,
            "linecolor": "#506784",
            "showbackground": true,
            "ticks": "",
            "zerolinecolor": "#C8D4E3"
           },
           "zaxis": {
            "backgroundcolor": "rgb(17,17,17)",
            "gridcolor": "#506784",
            "gridwidth": 2,
            "linecolor": "#506784",
            "showbackground": true,
            "ticks": "",
            "zerolinecolor": "#C8D4E3"
           }
          },
          "shapedefaults": {
           "line": {
            "color": "#f2f5fa"
           }
          },
          "sliderdefaults": {
           "bgcolor": "#C8D4E3",
           "bordercolor": "rgb(17,17,17)",
           "borderwidth": 1,
           "tickwidth": 0
          },
          "ternary": {
           "aaxis": {
            "gridcolor": "#506784",
            "linecolor": "#506784",
            "ticks": ""
           },
           "baxis": {
            "gridcolor": "#506784",
            "linecolor": "#506784",
            "ticks": ""
           },
           "bgcolor": "rgb(17,17,17)",
           "caxis": {
            "gridcolor": "#506784",
            "linecolor": "#506784",
            "ticks": ""
           }
          },
          "title": {
           "x": 0.05
          },
          "updatemenudefaults": {
           "bgcolor": "#506784",
           "borderwidth": 0
          },
          "xaxis": {
           "automargin": true,
           "gridcolor": "#283442",
           "linecolor": "#506784",
           "ticks": "",
           "title": {
            "standoff": 15
           },
           "zerolinecolor": "#283442",
           "zerolinewidth": 2
          },
          "yaxis": {
           "automargin": true,
           "gridcolor": "#283442",
           "linecolor": "#506784",
           "ticks": "",
           "title": {
            "standoff": 15
           },
           "zerolinecolor": "#283442",
           "zerolinewidth": 2
          }
         }
        },
        "title": {
         "text": "ROC Curve"
        }
       }
      }
     },
     "metadata": {},
     "output_type": "display_data"
    },
    {
     "data": {
      "application/vnd.plotly.v1+json": {
       "config": {
        "plotlyServerURL": "https://plot.ly"
       },
       "data": [
        {
         "bingroup": "x",
         "hovertemplate": "Risk_Level=Low<br>Churn_Prob=%{x}<br>count=%{y}<extra></extra>",
         "legendgroup": "Low",
         "marker": {
          "color": "#636efa",
          "pattern": {
           "shape": ""
          }
         },
         "name": "Low",
         "orientation": "v",
         "showlegend": true,
         "type": "histogram",
         "x": {
          "bdata": "/stIPrFSQj7DZa09JpH/PRIiIT0CrhA8I14JPeloXD6wsmY+w2WtPSjWWD5RDzg9LHfrO8/cPj0tAJ08hiIMPcNlrT02Jis9z6sIPk5U1j3lzZw8",
          "dtype": "f4"
         },
         "xaxis": "x",
         "yaxis": "y"
        },
        {
         "bingroup": "x",
         "hovertemplate": "Risk_Level=Medium<br>Churn_Prob=%{x}<br>count=%{y}<extra></extra>",
         "legendgroup": "Medium",
         "marker": {
          "color": "#EF553B",
          "pattern": {
           "shape": ""
          }
         },
         "name": "Medium",
         "orientation": "v",
         "showlegend": true,
         "type": "histogram",
         "x": {
          "bdata": "n0G6PtpQKz+mwsQ+n0G6PsSnKj/9/RI/n0G6PoKhIz+p5fE+n0G6PmpdsD6hPTA/",
          "dtype": "f4"
         },
         "xaxis": "x",
         "yaxis": "y"
        },
        {
         "bingroup": "x",
         "hovertemplate": "Risk_Level=High<br>Churn_Prob=%{x}<br>count=%{y}<extra></extra>",
         "legendgroup": "High",
         "marker": {
          "color": "#00cc96",
          "pattern": {
           "shape": ""
          }
         },
         "name": "High",
         "orientation": "v",
         "showlegend": true,
         "type": "histogram",
         "x": {
          "bdata": "ozJlPwW/bT+/s2A/HJlIP1sMOT/v6lg/v0FwPw==",
          "dtype": "f4"
         },
         "xaxis": "x",
         "yaxis": "y"
        }
       ],
       "layout": {
        "barmode": "relative",
        "legend": {
         "title": {
          "text": "Risk_Level"
         },
         "tracegroupgap": 0
        },
        "template": {
         "data": {
          "bar": [
           {
            "error_x": {
             "color": "#f2f5fa"
            },
            "error_y": {
             "color": "#f2f5fa"
            },
            "marker": {
             "line": {
              "color": "rgb(17,17,17)",
              "width": 0.5
             },
             "pattern": {
              "fillmode": "overlay",
              "size": 10,
              "solidity": 0.2
             }
            },
            "type": "bar"
           }
          ],
          "barpolar": [
           {
            "marker": {
             "line": {
              "color": "rgb(17,17,17)",
              "width": 0.5
             },
             "pattern": {
              "fillmode": "overlay",
              "size": 10,
              "solidity": 0.2
             }
            },
            "type": "barpolar"
           }
          ],
          "carpet": [
           {
            "aaxis": {
             "endlinecolor": "#A2B1C6",
             "gridcolor": "#506784",
             "linecolor": "#506784",
             "minorgridcolor": "#506784",
             "startlinecolor": "#A2B1C6"
            },
            "baxis": {
             "endlinecolor": "#A2B1C6",
             "gridcolor": "#506784",
             "linecolor": "#506784",
             "minorgridcolor": "#506784",
             "startlinecolor": "#A2B1C6"
            },
            "type": "carpet"
           }
          ],
          "choropleth": [
           {
            "colorbar": {
             "outlinewidth": 0,
             "ticks": ""
            },
            "type": "choropleth"
           }
          ],
          "contour": [
           {
            "colorbar": {
             "outlinewidth": 0,
             "ticks": ""
            },
            "colorscale": [
             [
              0,
              "#0d0887"
             ],
             [
              0.1111111111111111,
              "#46039f"
             ],
             [
              0.2222222222222222,
              "#7201a8"
             ],
             [
              0.3333333333333333,
              "#9c179e"
             ],
             [
              0.4444444444444444,
              "#bd3786"
             ],
             [
              0.5555555555555556,
              "#d8576b"
             ],
             [
              0.6666666666666666,
              "#ed7953"
             ],
             [
              0.7777777777777778,
              "#fb9f3a"
             ],
             [
              0.8888888888888888,
              "#fdca26"
             ],
             [
              1,
              "#f0f921"
             ]
            ],
            "type": "contour"
           }
          ],
          "contourcarpet": [
           {
            "colorbar": {
             "outlinewidth": 0,
             "ticks": ""
            },
            "type": "contourcarpet"
           }
          ],
          "heatmap": [
           {
            "colorbar": {
             "outlinewidth": 0,
             "ticks": ""
            },
            "colorscale": [
             [
              0,
              "#0d0887"
             ],
             [
              0.1111111111111111,
              "#46039f"
             ],
             [
              0.2222222222222222,
              "#7201a8"
             ],
             [
              0.3333333333333333,
              "#9c179e"
             ],
             [
              0.4444444444444444,
              "#bd3786"
             ],
             [
              0.5555555555555556,
              "#d8576b"
             ],
             [
              0.6666666666666666,
              "#ed7953"
             ],
             [
              0.7777777777777778,
              "#fb9f3a"
             ],
             [
              0.8888888888888888,
              "#fdca26"
             ],
             [
              1,
              "#f0f921"
             ]
            ],
            "type": "heatmap"
           }
          ],
          "histogram": [
           {
            "marker": {
             "pattern": {
              "fillmode": "overlay",
              "size": 10,
              "solidity": 0.2
             }
            },
            "type": "histogram"
           }
          ],
          "histogram2d": [
           {
            "colorbar": {
             "outlinewidth": 0,
             "ticks": ""
            },
            "colorscale": [
             [
              0,
              "#0d0887"
             ],
             [
              0.1111111111111111,
              "#46039f"
             ],
             [
              0.2222222222222222,
              "#7201a8"
             ],
             [
              0.3333333333333333,
              "#9c179e"
             ],
             [
              0.4444444444444444,
              "#bd3786"
             ],
             [
              0.5555555555555556,
              "#d8576b"
             ],
             [
              0.6666666666666666,
              "#ed7953"
             ],
             [
              0.7777777777777778,
              "#fb9f3a"
             ],
             [
              0.8888888888888888,
              "#fdca26"
             ],
             [
              1,
              "#f0f921"
             ]
            ],
            "type": "histogram2d"
           }
          ],
          "histogram2dcontour": [
           {
            "colorbar": {
             "outlinewidth": 0,
             "ticks": ""
            },
            "colorscale": [
             [
              0,
              "#0d0887"
             ],
             [
              0.1111111111111111,
              "#46039f"
             ],
             [
              0.2222222222222222,
              "#7201a8"
             ],
             [
              0.3333333333333333,
              "#9c179e"
             ],
             [
              0.4444444444444444,
              "#bd3786"
             ],
             [
              0.5555555555555556,
              "#d8576b"
             ],
             [
              0.6666666666666666,
              "#ed7953"
             ],
             [
              0.7777777777777778,
              "#fb9f3a"
             ],
             [
              0.8888888888888888,
              "#fdca26"
             ],
             [
              1,
              "#f0f921"
             ]
            ],
            "type": "histogram2dcontour"
           }
          ],
          "mesh3d": [
           {
            "colorbar": {
             "outlinewidth": 0,
             "ticks": ""
            },
            "type": "mesh3d"
           }
          ],
          "parcoords": [
           {
            "line": {
             "colorbar": {
              "outlinewidth": 0,
              "ticks": ""
             }
            },
            "type": "parcoords"
           }
          ],
          "pie": [
           {
            "automargin": true,
            "type": "pie"
           }
          ],
          "scatter": [
           {
            "marker": {
             "line": {
              "color": "#283442"
             }
            },
            "type": "scatter"
           }
          ],
          "scatter3d": [
           {
            "line": {
             "colorbar": {
              "outlinewidth": 0,
              "ticks": ""
             }
            },
            "marker": {
             "colorbar": {
              "outlinewidth": 0,
              "ticks": ""
             }
            },
            "type": "scatter3d"
           }
          ],
          "scattercarpet": [
           {
            "marker": {
             "colorbar": {
              "outlinewidth": 0,
              "ticks": ""
             }
            },
            "type": "scattercarpet"
           }
          ],
          "scattergeo": [
           {
            "marker": {
             "colorbar": {
              "outlinewidth": 0,
              "ticks": ""
             }
            },
            "type": "scattergeo"
           }
          ],
          "scattergl": [
           {
            "marker": {
             "line": {
              "color": "#283442"
             }
            },
            "type": "scattergl"
           }
          ],
          "scattermap": [
           {
            "marker": {
             "colorbar": {
              "outlinewidth": 0,
              "ticks": ""
             }
            },
            "type": "scattermap"
           }
          ],
          "scattermapbox": [
           {
            "marker": {
             "colorbar": {
              "outlinewidth": 0,
              "ticks": ""
             }
            },
            "type": "scattermapbox"
           }
          ],
          "scatterpolar": [
           {
            "marker": {
             "colorbar": {
              "outlinewidth": 0,
              "ticks": ""
             }
            },
            "type": "scatterpolar"
           }
          ],
          "scatterpolargl": [
           {
            "marker": {
             "colorbar": {
              "outlinewidth": 0,
              "ticks": ""
             }
            },
            "type": "scatterpolargl"
           }
          ],
          "scatterternary": [
           {
            "marker": {
             "colorbar": {
              "outlinewidth": 0,
              "ticks": ""
             }
            },
            "type": "scatterternary"
           }
          ],
          "surface": [
           {
            "colorbar": {
             "outlinewidth": 0,
             "ticks": ""
            },
            "colorscale": [
             [
              0,
              "#0d0887"
             ],
             [
              0.1111111111111111,
              "#46039f"
             ],
             [
              0.2222222222222222,
              "#7201a8"
             ],
             [
              0.3333333333333333,
              "#9c179e"
             ],
             [
              0.4444444444444444,
              "#bd3786"
             ],
             [
              0.5555555555555556,
              "#d8576b"
             ],
             [
              0.6666666666666666,
              "#ed7953"
             ],
             [
              0.7777777777777778,
              "#fb9f3a"
             ],
             [
              0.8888888888888888,
              "#fdca26"
             ],
             [
              1,
              "#f0f921"
             ]
            ],
            "type": "surface"
           }
          ],
          "table": [
           {
            "cells": {
             "fill": {
              "color": "#506784"
             },
             "line": {
              "color": "rgb(17,17,17)"
             }
            },
            "header": {
             "fill": {
              "color": "#2a3f5f"
             },
             "line": {
              "color": "rgb(17,17,17)"
             }
            },
            "type": "table"
           }
          ]
         },
         "layout": {
          "annotationdefaults": {
           "arrowcolor": "#f2f5fa",
           "arrowhead": 0,
           "arrowwidth": 1
          },
          "autotypenumbers": "strict",
          "coloraxis": {
           "colorbar": {
            "outlinewidth": 0,
            "ticks": ""
           }
          },
          "colorscale": {
           "diverging": [
            [
             0,
             "#8e0152"
            ],
            [
             0.1,
             "#c51b7d"
            ],
            [
             0.2,
             "#de77ae"
            ],
            [
             0.3,
             "#f1b6da"
            ],
            [
             0.4,
             "#fde0ef"
            ],
            [
             0.5,
             "#f7f7f7"
            ],
            [
             0.6,
             "#e6f5d0"
            ],
            [
             0.7,
             "#b8e186"
            ],
            [
             0.8,
             "#7fbc41"
            ],
            [
             0.9,
             "#4d9221"
            ],
            [
             1,
             "#276419"
            ]
           ],
           "sequential": [
            [
             0,
             "#0d0887"
            ],
            [
             0.1111111111111111,
             "#46039f"
            ],
            [
             0.2222222222222222,
             "#7201a8"
            ],
            [
             0.3333333333333333,
             "#9c179e"
            ],
            [
             0.4444444444444444,
             "#bd3786"
            ],
            [
             0.5555555555555556,
             "#d8576b"
            ],
            [
             0.6666666666666666,
             "#ed7953"
            ],
            [
             0.7777777777777778,
             "#fb9f3a"
            ],
            [
             0.8888888888888888,
             "#fdca26"
            ],
            [
             1,
             "#f0f921"
            ]
           ],
           "sequentialminus": [
            [
             0,
             "#0d0887"
            ],
            [
             0.1111111111111111,
             "#46039f"
            ],
            [
             0.2222222222222222,
             "#7201a8"
            ],
            [
             0.3333333333333333,
             "#9c179e"
            ],
            [
             0.4444444444444444,
             "#bd3786"
            ],
            [
             0.5555555555555556,
             "#d8576b"
            ],
            [
             0.6666666666666666,
             "#ed7953"
            ],
            [
             0.7777777777777778,
             "#fb9f3a"
            ],
            [
             0.8888888888888888,
             "#fdca26"
            ],
            [
             1,
             "#f0f921"
            ]
           ]
          },
          "colorway": [
           "#636efa",
           "#EF553B",
           "#00cc96",
           "#ab63fa",
           "#FFA15A",
           "#19d3f3",
           "#FF6692",
           "#B6E880",
           "#FF97FF",
           "#FECB52"
          ],
          "font": {
           "color": "#f2f5fa"
          },
          "geo": {
           "bgcolor": "rgb(17,17,17)",
           "lakecolor": "rgb(17,17,17)",
           "landcolor": "rgb(17,17,17)",
           "showlakes": true,
           "showland": true,
           "subunitcolor": "#506784"
          },
          "hoverlabel": {
           "align": "left"
          },
          "hovermode": "closest",
          "mapbox": {
           "style": "dark"
          },
          "paper_bgcolor": "rgb(17,17,17)",
          "plot_bgcolor": "rgb(17,17,17)",
          "polar": {
           "angularaxis": {
            "gridcolor": "#506784",
            "linecolor": "#506784",
            "ticks": ""
           },
           "bgcolor": "rgb(17,17,17)",
           "radialaxis": {
            "gridcolor": "#506784",
            "linecolor": "#506784",
            "ticks": ""
           }
          },
          "scene": {
           "xaxis": {
            "backgroundcolor": "rgb(17,17,17)",
            "gridcolor": "#506784",
            "gridwidth": 2,
            "linecolor": "#506784",
            "showbackground": true,
            "ticks": "",
            "zerolinecolor": "#C8D4E3"
           },
           "yaxis": {
            "backgroundcolor": "rgb(17,17,17)",
            "gridcolor": "#506784",
            "gridwidth": 2,
            "linecolor": "#506784",
            "showbackground": true,
            "ticks": "",
            "zerolinecolor": "#C8D4E3"
           },
           "zaxis": {
            "backgroundcolor": "rgb(17,17,17)",
            "gridcolor": "#506784",
            "gridwidth": 2,
            "linecolor": "#506784",
            "showbackground": true,
            "ticks": "",
            "zerolinecolor": "#C8D4E3"
           }
          },
          "shapedefaults": {
           "line": {
            "color": "#f2f5fa"
           }
          },
          "sliderdefaults": {
           "bgcolor": "#C8D4E3",
           "bordercolor": "rgb(17,17,17)",
           "borderwidth": 1,
           "tickwidth": 0
          },
          "ternary": {
           "aaxis": {
            "gridcolor": "#506784",
            "linecolor": "#506784",
            "ticks": ""
           },
           "baxis": {
            "gridcolor": "#506784",
            "linecolor": "#506784",
            "ticks": ""
           },
           "bgcolor": "rgb(17,17,17)",
           "caxis": {
            "gridcolor": "#506784",
            "linecolor": "#506784",
            "ticks": ""
           }
          },
          "title": {
           "x": 0.05
          },
          "updatemenudefaults": {
           "bgcolor": "#506784",
           "borderwidth": 0
          },
          "xaxis": {
           "automargin": true,
           "gridcolor": "#283442",
           "linecolor": "#506784",
           "ticks": "",
           "title": {
            "standoff": 15
           },
           "zerolinecolor": "#283442",
           "zerolinewidth": 2
          },
          "yaxis": {
           "automargin": true,
           "gridcolor": "#283442",
           "linecolor": "#506784",
           "ticks": "",
           "title": {
            "standoff": 15
           },
           "zerolinecolor": "#283442",
           "zerolinewidth": 2
          }
         }
        },
        "title": {
         "text": "Churn Risk"
        },
        "xaxis": {
         "anchor": "y",
         "domain": [
          0,
          1
         ],
         "title": {
          "text": "Churn_Prob"
         }
        },
        "yaxis": {
         "anchor": "x",
         "domain": [
          0,
          1
         ],
         "title": {
          "text": "count"
         }
        }
       }
      }
     },
     "metadata": {},
     "output_type": "display_data"
    },
    {
     "data": {
      "application/vnd.plotly.v1+json": {
       "config": {
        "plotlyServerURL": "https://plot.ly"
       },
       "data": [
        {
         "hovertemplate": "Delay_Days=%{x}<br>Total_Cost=%{y}<br>Churned=%{marker.color}<extra></extra>",
         "legendgroup": "",
         "marker": {
          "color": {
           "bdata": "AAABAAEAAAEAAQEAAAAAAQABAAAAAAEAAAEAAAAAAAAAAQEAAAEAAQABAAEBAAEAAQABAAAAAQABAAABAQAAAAEBAQABAAEAAAABAAEAAAEBAQAAAAEAAQAAAAAAAAABAAEAAQEAAQABAAEBAQAAAAEAAAAAAQEBAQAAAAAAAAAAAAAAAAEAAAABAQEBAAEAAAEBAQAAAQAAAAABAAAAAAABAAAAAQABAAABAAABAAAAAAAAAQAAAAABAAEAAQABAQABAAAAAAA=",
           "dtype": "i1"
          },
          "coloraxis": "coloraxis",
          "symbol": "circle"
         },
         "mode": "markers",
         "name": "",
         "orientation": "v",
         "showlegend": false,
         "type": "scatter",
         "x": {
          "bdata": "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",
          "dtype": "f8"
         },
         "xaxis": "x",
         "y": {
          "bdata": "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",
          "dtype": "f8"
         },
         "yaxis": "y"
        }
       ],
       "layout": {
        "coloraxis": {
         "colorbar": {
          "title": {
           "text": "Churned"
          }
         },
         "colorscale": [
          [
           0,
           "#000011"
          ],
          [
           0.1111111111111111,
           "#000012"
          ],
          [
           0.2222222222222222,
           "#000013"
          ],
          [
           0.3333333333333333,
           "#000014"
          ],
          [
           0.4444444444444444,
           "#000015"
          ],
          [
           0.5555555555555556,
           "#000016"
          ],
          [
           0.6666666666666666,
           "#000017"
          ],
          [
           0.7777777777777778,
           "#000018"
          ],
          [
           0.8888888888888888,
           "#000019"
          ],
          [
           1,
           "#000020"
          ]
         ]
        },
        "legend": {
         "tracegroupgap": 0
        },
        "template": {
         "data": {
          "bar": [
           {
            "error_x": {
             "color": "#f2f5fa"
            },
            "error_y": {
             "color": "#f2f5fa"
            },
            "marker": {
             "line": {
              "color": "rgb(17,17,17)",
              "width": 0.5
             },
             "pattern": {
              "fillmode": "overlay",
              "size": 10,
              "solidity": 0.2
             }
            },
            "type": "bar"
           }
          ],
          "barpolar": [
           {
            "marker": {
             "line": {
              "color": "rgb(17,17,17)",
              "width": 0.5
             },
             "pattern": {
              "fillmode": "overlay",
              "size": 10,
              "solidity": 0.2
             }
            },
            "type": "barpolar"
           }
          ],
          "carpet": [
           {
            "aaxis": {
             "endlinecolor": "#A2B1C6",
             "gridcolor": "#506784",
             "linecolor": "#506784",
             "minorgridcolor": "#506784",
             "startlinecolor": "#A2B1C6"
            },
            "baxis": {
             "endlinecolor": "#A2B1C6",
             "gridcolor": "#506784",
             "linecolor": "#506784",
             "minorgridcolor": "#506784",
             "startlinecolor": "#A2B1C6"
            },
            "type": "carpet"
           }
          ],
          "choropleth": [
           {
            "colorbar": {
             "outlinewidth": 0,
             "ticks": ""
            },
            "type": "choropleth"
           }
          ],
          "contour": [
           {
            "colorbar": {
             "outlinewidth": 0,
             "ticks": ""
            },
            "colorscale": [
             [
              0,
              "#0d0887"
             ],
             [
              0.1111111111111111,
              "#46039f"
             ],
             [
              0.2222222222222222,
              "#7201a8"
             ],
             [
              0.3333333333333333,
              "#9c179e"
             ],
             [
              0.4444444444444444,
              "#bd3786"
             ],
             [
              0.5555555555555556,
              "#d8576b"
             ],
             [
              0.6666666666666666,
              "#ed7953"
             ],
             [
              0.7777777777777778,
              "#fb9f3a"
             ],
             [
              0.8888888888888888,
              "#fdca26"
             ],
             [
              1,
              "#f0f921"
             ]
            ],
            "type": "contour"
           }
          ],
          "contourcarpet": [
           {
            "colorbar": {
             "outlinewidth": 0,
             "ticks": ""
            },
            "type": "contourcarpet"
           }
          ],
          "heatmap": [
           {
            "colorbar": {
             "outlinewidth": 0,
             "ticks": ""
            },
            "colorscale": [
             [
              0,
              "#0d0887"
             ],
             [
              0.1111111111111111,
              "#46039f"
             ],
             [
              0.2222222222222222,
              "#7201a8"
             ],
             [
              0.3333333333333333,
              "#9c179e"
             ],
             [
              0.4444444444444444,
              "#bd3786"
             ],
             [
              0.5555555555555556,
              "#d8576b"
             ],
             [
              0.6666666666666666,
              "#ed7953"
             ],
             [
              0.7777777777777778,
              "#fb9f3a"
             ],
             [
              0.8888888888888888,
              "#fdca26"
             ],
             [
              1,
              "#f0f921"
             ]
            ],
            "type": "heatmap"
           }
          ],
          "histogram": [
           {
            "marker": {
             "pattern": {
              "fillmode": "overlay",
              "size": 10,
              "solidity": 0.2
             }
            },
            "type": "histogram"
           }
          ],
          "histogram2d": [
           {
            "colorbar": {
             "outlinewidth": 0,
             "ticks": ""
            },
            "colorscale": [
             [
              0,
              "#0d0887"
             ],
             [
              0.1111111111111111,
              "#46039f"
             ],
             [
              0.2222222222222222,
              "#7201a8"
             ],
             [
              0.3333333333333333,
              "#9c179e"
             ],
             [
              0.4444444444444444,
              "#bd3786"
             ],
             [
              0.5555555555555556,
              "#d8576b"
             ],
             [
              0.6666666666666666,
              "#ed7953"
             ],
             [
              0.7777777777777778,
              "#fb9f3a"
             ],
             [
              0.8888888888888888,
              "#fdca26"
             ],
             [
              1,
              "#f0f921"
             ]
            ],
            "type": "histogram2d"
           }
          ],
          "histogram2dcontour": [
           {
            "colorbar": {
             "outlinewidth": 0,
             "ticks": ""
            },
            "colorscale": [
             [
              0,
              "#0d0887"
             ],
             [
              0.1111111111111111,
              "#46039f"
             ],
             [
              0.2222222222222222,
              "#7201a8"
             ],
             [
              0.3333333333333333,
              "#9c179e"
             ],
             [
              0.4444444444444444,
              "#bd3786"
             ],
             [
              0.5555555555555556,
              "#d8576b"
             ],
             [
              0.6666666666666666,
              "#ed7953"
             ],
             [
              0.7777777777777778,
              "#fb9f3a"
             ],
             [
              0.8888888888888888,
              "#fdca26"
             ],
             [
              1,
              "#f0f921"
             ]
            ],
            "type": "histogram2dcontour"
           }
          ],
          "mesh3d": [
           {
            "colorbar": {
             "outlinewidth": 0,
             "ticks": ""
            },
            "type": "mesh3d"
           }
          ],
          "parcoords": [
           {
            "line": {
             "colorbar": {
              "outlinewidth": 0,
              "ticks": ""
             }
            },
            "type": "parcoords"
           }
          ],
          "pie": [
           {
            "automargin": true,
            "type": "pie"
           }
          ],
          "scatter": [
           {
            "marker": {
             "line": {
              "color": "#283442"
             }
            },
            "type": "scatter"
           }
          ],
          "scatter3d": [
           {
            "line": {
             "colorbar": {
              "outlinewidth": 0,
              "ticks": ""
             }
            },
            "marker": {
             "colorbar": {
              "outlinewidth": 0,
              "ticks": ""
             }
            },
            "type": "scatter3d"
           }
          ],
          "scattercarpet": [
           {
            "marker": {
             "colorbar": {
              "outlinewidth": 0,
              "ticks": ""
             }
            },
            "type": "scattercarpet"
           }
          ],
          "scattergeo": [
           {
            "marker": {
             "colorbar": {
              "outlinewidth": 0,
              "ticks": ""
             }
            },
            "type": "scattergeo"
           }
          ],
          "scattergl": [
           {
            "marker": {
             "line": {
              "color": "#283442"
             }
            },
            "type": "scattergl"
           }
          ],
          "scattermap": [
           {
            "marker": {
             "colorbar": {
              "outlinewidth": 0,
              "ticks": ""
             }
            },
            "type": "scattermap"
           }
          ],
          "scattermapbox": [
           {
            "marker": {
             "colorbar": {
              "outlinewidth": 0,
              "ticks": ""
             }
            },
            "type": "scattermapbox"
           }
          ],
          "scatterpolar": [
           {
            "marker": {
             "colorbar": {
              "outlinewidth": 0,
              "ticks": ""
             }
            },
            "type": "scatterpolar"
           }
          ],
          "scatterpolargl": [
           {
            "marker": {
             "colorbar": {
              "outlinewidth": 0,
              "ticks": ""
             }
            },
            "type": "scatterpolargl"
           }
          ],
          "scatterternary": [
           {
            "marker": {
             "colorbar": {
              "outlinewidth": 0,
              "ticks": ""
             }
            },
            "type": "scatterternary"
           }
          ],
          "surface": [
           {
            "colorbar": {
             "outlinewidth": 0,
             "ticks": ""
            },
            "colorscale": [
             [
              0,
              "#0d0887"
             ],
             [
              0.1111111111111111,
              "#46039f"
             ],
             [
              0.2222222222222222,
              "#7201a8"
             ],
             [
              0.3333333333333333,
              "#9c179e"
             ],
             [
              0.4444444444444444,
              "#bd3786"
             ],
             [
              0.5555555555555556,
              "#d8576b"
             ],
             [
              0.6666666666666666,
              "#ed7953"
             ],
             [
              0.7777777777777778,
              "#fb9f3a"
             ],
             [
              0.8888888888888888,
              "#fdca26"
             ],
             [
              1,
              "#f0f921"
             ]
            ],
            "type": "surface"
           }
          ],
          "table": [
           {
            "cells": {
             "fill": {
              "color": "#506784"
             },
             "line": {
              "color": "rgb(17,17,17)"
             }
            },
            "header": {
             "fill": {
              "color": "#2a3f5f"
             },
             "line": {
              "color": "rgb(17,17,17)"
             }
            },
            "type": "table"
           }
          ]
         },
         "layout": {
          "annotationdefaults": {
           "arrowcolor": "#f2f5fa",
           "arrowhead": 0,
           "arrowwidth": 1
          },
          "autotypenumbers": "strict",
          "coloraxis": {
           "colorbar": {
            "outlinewidth": 0,
            "ticks": ""
           }
          },
          "colorscale": {
           "diverging": [
            [
             0,
             "#8e0152"
            ],
            [
             0.1,
             "#c51b7d"
            ],
            [
             0.2,
             "#de77ae"
            ],
            [
             0.3,
             "#f1b6da"
            ],
            [
             0.4,
             "#fde0ef"
            ],
            [
             0.5,
             "#f7f7f7"
            ],
            [
             0.6,
             "#e6f5d0"
            ],
            [
             0.7,
             "#b8e186"
            ],
            [
             0.8,
             "#7fbc41"
            ],
            [
             0.9,
             "#4d9221"
            ],
            [
             1,
             "#276419"
            ]
           ],
           "sequential": [
            [
             0,
             "#0d0887"
            ],
            [
             0.1111111111111111,
             "#46039f"
            ],
            [
             0.2222222222222222,
             "#7201a8"
            ],
            [
             0.3333333333333333,
             "#9c179e"
            ],
            [
             0.4444444444444444,
             "#bd3786"
            ],
            [
             0.5555555555555556,
             "#d8576b"
            ],
            [
             0.6666666666666666,
             "#ed7953"
            ],
            [
             0.7777777777777778,
             "#fb9f3a"
            ],
            [
             0.8888888888888888,
             "#fdca26"
            ],
            [
             1,
             "#f0f921"
            ]
           ],
           "sequentialminus": [
            [
             0,
             "#0d0887"
            ],
            [
             0.1111111111111111,
             "#46039f"
            ],
            [
             0.2222222222222222,
             "#7201a8"
            ],
            [
             0.3333333333333333,
             "#9c179e"
            ],
            [
             0.4444444444444444,
             "#bd3786"
            ],
            [
             0.5555555555555556,
             "#d8576b"
            ],
            [
             0.6666666666666666,
             "#ed7953"
            ],
            [
             0.7777777777777778,
             "#fb9f3a"
            ],
            [
             0.8888888888888888,
             "#fdca26"
            ],
            [
             1,
             "#f0f921"
            ]
           ]
          },
          "colorway": [
           "#636efa",
           "#EF553B",
           "#00cc96",
           "#ab63fa",
           "#FFA15A",
           "#19d3f3",
           "#FF6692",
           "#B6E880",
           "#FF97FF",
           "#FECB52"
          ],
          "font": {
           "color": "#f2f5fa"
          },
          "geo": {
           "bgcolor": "rgb(17,17,17)",
           "lakecolor": "rgb(17,17,17)",
           "landcolor": "rgb(17,17,17)",
           "showlakes": true,
           "showland": true,
           "subunitcolor": "#506784"
          },
          "hoverlabel": {
           "align": "left"
          },
          "hovermode": "closest",
          "mapbox": {
           "style": "dark"
          },
          "paper_bgcolor": "rgb(17,17,17)",
          "plot_bgcolor": "rgb(17,17,17)",
          "polar": {
           "angularaxis": {
            "gridcolor": "#506784",
            "linecolor": "#506784",
            "ticks": ""
           },
           "bgcolor": "rgb(17,17,17)",
           "radialaxis": {
            "gridcolor": "#506784",
            "linecolor": "#506784",
            "ticks": ""
           }
          },
          "scene": {
           "xaxis": {
            "backgroundcolor": "rgb(17,17,17)",
            "gridcolor": "#506784",
            "gridwidth": 2,
            "linecolor": "#506784",
            "showbackground": true,
            "ticks": "",
            "zerolinecolor": "#C8D4E3"
           },
           "yaxis": {
            "backgroundcolor": "rgb(17,17,17)",
            "gridcolor": "#506784",
            "gridwidth": 2,
            "linecolor": "#506784",
            "showbackground": true,
            "ticks": "",
            "zerolinecolor": "#C8D4E3"
           },
           "zaxis": {
            "backgroundcolor": "rgb(17,17,17)",
            "gridcolor": "#506784",
            "gridwidth": 2,
            "linecolor": "#506784",
            "showbackground": true,
            "ticks": "",
            "zerolinecolor": "#C8D4E3"
           }
          },
          "shapedefaults": {
           "line": {
            "color": "#f2f5fa"
           }
          },
          "sliderdefaults": {
           "bgcolor": "#C8D4E3",
           "bordercolor": "rgb(17,17,17)",
           "borderwidth": 1,
           "tickwidth": 0
          },
          "ternary": {
           "aaxis": {
            "gridcolor": "#506784",
            "linecolor": "#506784",
            "ticks": ""
           },
           "baxis": {
            "gridcolor": "#506784",
            "linecolor": "#506784",
            "ticks": ""
           },
           "bgcolor": "rgb(17,17,17)",
           "caxis": {
            "gridcolor": "#506784",
            "linecolor": "#506784",
            "ticks": ""
           }
          },
          "title": {
           "x": 0.05
          },
          "updatemenudefaults": {
           "bgcolor": "#506784",
           "borderwidth": 0
          },
          "xaxis": {
           "automargin": true,
           "gridcolor": "#283442",
           "linecolor": "#506784",
           "ticks": "",
           "title": {
            "standoff": 15
           },
           "zerolinecolor": "#283442",
           "zerolinewidth": 2
          },
          "yaxis": {
           "automargin": true,
           "gridcolor": "#283442",
           "linecolor": "#506784",
           "ticks": "",
           "title": {
            "standoff": 15
           },
           "zerolinecolor": "#283442",
           "zerolinewidth": 2
          }
         }
        },
        "title": {
         "text": "Delay vs Cost"
        },
        "xaxis": {
         "anchor": "y",
         "domain": [
          0,
          1
         ],
         "title": {
          "text": "Delay_Days"
         }
        },
        "yaxis": {
         "anchor": "x",
         "domain": [
          0,
          1
         ],
         "title": {
          "text": "Total_Cost"
         }
        }
       }
      }
     },
     "metadata": {},
     "output_type": "display_data"
    },
    {
     "data": {
      "application/vnd.plotly.v1+json": {
       "config": {
        "plotlyServerURL": "https://plot.ly"
       },
       "data": [
        {
         "hovertemplate": "action=%{x}<br>count=%{y}<extra></extra>",
         "legendgroup": "",
         "marker": {
          "color": "#000001",
          "pattern": {
           "shape": ""
          }
         },
         "name": "",
         "orientation": "v",
         "showlegend": false,
         "textposition": "auto",
         "type": "bar",
         "x": {
          "bdata": "AAAAAAAAAAA=",
          "dtype": "f8"
         },
         "xaxis": "x",
         "y": {
          "bdata": "yAA=",
          "dtype": "i2"
         },
         "yaxis": "y"
        }
       ],
       "layout": {
        "barmode": "relative",
        "legend": {
         "tracegroupgap": 0
        },
        "template": {
         "data": {
          "bar": [
           {
            "error_x": {
             "color": "#f2f5fa"
            },
            "error_y": {
             "color": "#f2f5fa"
            },
            "marker": {
             "line": {
              "color": "rgb(17,17,17)",
              "width": 0.5
             },
             "pattern": {
              "fillmode": "overlay",
              "size": 10,
              "solidity": 0.2
             }
            },
            "type": "bar"
           }
          ],
          "barpolar": [
           {
            "marker": {
             "line": {
              "color": "rgb(17,17,17)",
              "width": 0.5
             },
             "pattern": {
              "fillmode": "overlay",
              "size": 10,
              "solidity": 0.2
             }
            },
            "type": "barpolar"
           }
          ],
          "carpet": [
           {
            "aaxis": {
             "endlinecolor": "#A2B1C6",
             "gridcolor": "#506784",
             "linecolor": "#506784",
             "minorgridcolor": "#506784",
             "startlinecolor": "#A2B1C6"
            },
            "baxis": {
             "endlinecolor": "#A2B1C6",
             "gridcolor": "#506784",
             "linecolor": "#506784",
             "minorgridcolor": "#506784",
             "startlinecolor": "#A2B1C6"
            },
            "type": "carpet"
           }
          ],
          "choropleth": [
           {
            "colorbar": {
             "outlinewidth": 0,
             "ticks": ""
            },
            "type": "choropleth"
           }
          ],
          "contour": [
           {
            "colorbar": {
             "outlinewidth": 0,
             "ticks": ""
            },
            "colorscale": [
             [
              0,
              "#0d0887"
             ],
             [
              0.1111111111111111,
              "#46039f"
             ],
             [
              0.2222222222222222,
              "#7201a8"
             ],
             [
              0.3333333333333333,
              "#9c179e"
             ],
             [
              0.4444444444444444,
              "#bd3786"
             ],
             [
              0.5555555555555556,
              "#d8576b"
             ],
             [
              0.6666666666666666,
              "#ed7953"
             ],
             [
              0.7777777777777778,
              "#fb9f3a"
             ],
             [
              0.8888888888888888,
              "#fdca26"
             ],
             [
              1,
              "#f0f921"
             ]
            ],
            "type": "contour"
           }
          ],
          "contourcarpet": [
           {
            "colorbar": {
             "outlinewidth": 0,
             "ticks": ""
            },
            "type": "contourcarpet"
           }
          ],
          "heatmap": [
           {
            "colorbar": {
             "outlinewidth": 0,
             "ticks": ""
            },
            "colorscale": [
             [
              0,
              "#0d0887"
             ],
             [
              0.1111111111111111,
              "#46039f"
             ],
             [
              0.2222222222222222,
              "#7201a8"
             ],
             [
              0.3333333333333333,
              "#9c179e"
             ],
             [
              0.4444444444444444,
              "#bd3786"
             ],
             [
              0.5555555555555556,
              "#d8576b"
             ],
             [
              0.6666666666666666,
              "#ed7953"
             ],
             [
              0.7777777777777778,
              "#fb9f3a"
             ],
             [
              0.8888888888888888,
              "#fdca26"
             ],
             [
              1,
              "#f0f921"
             ]
            ],
            "type": "heatmap"
           }
          ],
          "histogram": [
           {
            "marker": {
             "pattern": {
              "fillmode": "overlay",
              "size": 10,
              "solidity": 0.2
             }
            },
            "type": "histogram"
           }
          ],
          "histogram2d": [
           {
            "colorbar": {
             "outlinewidth": 0,
             "ticks": ""
            },
            "colorscale": [
             [
              0,
              "#0d0887"
             ],
             [
              0.1111111111111111,
              "#46039f"
             ],
             [
              0.2222222222222222,
              "#7201a8"
             ],
             [
              0.3333333333333333,
              "#9c179e"
             ],
             [
              0.4444444444444444,
              "#bd3786"
             ],
             [
              0.5555555555555556,
              "#d8576b"
             ],
             [
              0.6666666666666666,
              "#ed7953"
             ],
             [
              0.7777777777777778,
              "#fb9f3a"
             ],
             [
              0.8888888888888888,
              "#fdca26"
             ],
             [
              1,
              "#f0f921"
             ]
            ],
            "type": "histogram2d"
           }
          ],
          "histogram2dcontour": [
           {
            "colorbar": {
             "outlinewidth": 0,
             "ticks": ""
            },
            "colorscale": [
             [
              0,
              "#0d0887"
             ],
             [
              0.1111111111111111,
              "#46039f"
             ],
             [
              0.2222222222222222,
              "#7201a8"
             ],
             [
              0.3333333333333333,
              "#9c179e"
             ],
             [
              0.4444444444444444,
              "#bd3786"
             ],
             [
              0.5555555555555556,
              "#d8576b"
             ],
             [
              0.6666666666666666,
              "#ed7953"
             ],
             [
              0.7777777777777778,
              "#fb9f3a"
             ],
             [
              0.8888888888888888,
              "#fdca26"
             ],
             [
              1,
              "#f0f921"
             ]
            ],
            "type": "histogram2dcontour"
           }
          ],
          "mesh3d": [
           {
            "colorbar": {
             "outlinewidth": 0,
             "ticks": ""
            },
            "type": "mesh3d"
           }
          ],
          "parcoords": [
           {
            "line": {
             "colorbar": {
              "outlinewidth": 0,
              "ticks": ""
             }
            },
            "type": "parcoords"
           }
          ],
          "pie": [
           {
            "automargin": true,
            "type": "pie"
           }
          ],
          "scatter": [
           {
            "marker": {
             "line": {
              "color": "#283442"
             }
            },
            "type": "scatter"
           }
          ],
          "scatter3d": [
           {
            "line": {
             "colorbar": {
              "outlinewidth": 0,
              "ticks": ""
             }
            },
            "marker": {
             "colorbar": {
              "outlinewidth": 0,
              "ticks": ""
             }
            },
            "type": "scatter3d"
           }
          ],
          "scattercarpet": [
           {
            "marker": {
             "colorbar": {
              "outlinewidth": 0,
              "ticks": ""
             }
            },
            "type": "scattercarpet"
           }
          ],
          "scattergeo": [
           {
            "marker": {
             "colorbar": {
              "outlinewidth": 0,
              "ticks": ""
             }
            },
            "type": "scattergeo"
           }
          ],
          "scattergl": [
           {
            "marker": {
             "line": {
              "color": "#283442"
             }
            },
            "type": "scattergl"
           }
          ],
          "scattermap": [
           {
            "marker": {
             "colorbar": {
              "outlinewidth": 0,
              "ticks": ""
             }
            },
            "type": "scattermap"
           }
          ],
          "scattermapbox": [
           {
            "marker": {
             "colorbar": {
              "outlinewidth": 0,
              "ticks": ""
             }
            },
            "type": "scattermapbox"
           }
          ],
          "scatterpolar": [
           {
            "marker": {
             "colorbar": {
              "outlinewidth": 0,
              "ticks": ""
             }
            },
            "type": "scatterpolar"
           }
          ],
          "scatterpolargl": [
           {
            "marker": {
             "colorbar": {
              "outlinewidth": 0,
              "ticks": ""
             }
            },
            "type": "scatterpolargl"
           }
          ],
          "scatterternary": [
           {
            "marker": {
             "colorbar": {
              "outlinewidth": 0,
              "ticks": ""
             }
            },
            "type": "scatterternary"
           }
          ],
          "surface": [
           {
            "colorbar": {
             "outlinewidth": 0,
             "ticks": ""
            },
            "colorscale": [
             [
              0,
              "#0d0887"
             ],
             [
              0.1111111111111111,
              "#46039f"
             ],
             [
              0.2222222222222222,
              "#7201a8"
             ],
             [
              0.3333333333333333,
              "#9c179e"
             ],
             [
              0.4444444444444444,
              "#bd3786"
             ],
             [
              0.5555555555555556,
              "#d8576b"
             ],
             [
              0.6666666666666666,
              "#ed7953"
             ],
             [
              0.7777777777777778,
              "#fb9f3a"
             ],
             [
              0.8888888888888888,
              "#fdca26"
             ],
             [
              1,
              "#f0f921"
             ]
            ],
            "type": "surface"
           }
          ],
          "table": [
           {
            "cells": {
             "fill": {
              "color": "#506784"
             },
             "line": {
              "color": "rgb(17,17,17)"
             }
            },
            "header": {
             "fill": {
              "color": "#2a3f5f"
             },
             "line": {
              "color": "rgb(17,17,17)"
             }
            },
            "type": "table"
           }
          ]
         },
         "layout": {
          "annotationdefaults": {
           "arrowcolor": "#f2f5fa",
           "arrowhead": 0,
           "arrowwidth": 1
          },
          "autotypenumbers": "strict",
          "coloraxis": {
           "colorbar": {
            "outlinewidth": 0,
            "ticks": ""
           }
          },
          "colorscale": {
           "diverging": [
            [
             0,
             "#8e0152"
            ],
            [
             0.1,
             "#c51b7d"
            ],
            [
             0.2,
             "#de77ae"
            ],
            [
             0.3,
             "#f1b6da"
            ],
            [
             0.4,
             "#fde0ef"
            ],
            [
             0.5,
             "#f7f7f7"
            ],
            [
             0.6,
             "#e6f5d0"
            ],
            [
             0.7,
             "#b8e186"
            ],
            [
             0.8,
             "#7fbc41"
            ],
            [
             0.9,
             "#4d9221"
            ],
            [
             1,
             "#276419"
            ]
           ],
           "sequential": [
            [
             0,
             "#0d0887"
            ],
            [
             0.1111111111111111,
             "#46039f"
            ],
            [
             0.2222222222222222,
             "#7201a8"
            ],
            [
             0.3333333333333333,
             "#9c179e"
            ],
            [
             0.4444444444444444,
             "#bd3786"
            ],
            [
             0.5555555555555556,
             "#d8576b"
            ],
            [
             0.6666666666666666,
             "#ed7953"
            ],
            [
             0.7777777777777778,
             "#fb9f3a"
            ],
            [
             0.8888888888888888,
             "#fdca26"
            ],
            [
             1,
             "#f0f921"
            ]
           ],
           "sequentialminus": [
            [
             0,
             "#0d0887"
            ],
            [
             0.1111111111111111,
             "#46039f"
            ],
            [
             0.2222222222222222,
             "#7201a8"
            ],
            [
             0.3333333333333333,
             "#9c179e"
            ],
            [
             0.4444444444444444,
             "#bd3786"
            ],
            [
             0.5555555555555556,
             "#d8576b"
            ],
            [
             0.6666666666666666,
             "#ed7953"
            ],
            [
             0.7777777777777778,
             "#fb9f3a"
            ],
            [
             0.8888888888888888,
             "#fdca26"
            ],
            [
             1,
             "#f0f921"
            ]
           ]
          },
          "colorway": [
           "#636efa",
           "#EF553B",
           "#00cc96",
           "#ab63fa",
           "#FFA15A",
           "#19d3f3",
           "#FF6692",
           "#B6E880",
           "#FF97FF",
           "#FECB52"
          ],
          "font": {
           "color": "#f2f5fa"
          },
          "geo": {
           "bgcolor": "rgb(17,17,17)",
           "lakecolor": "rgb(17,17,17)",
           "landcolor": "rgb(17,17,17)",
           "showlakes": true,
           "showland": true,
           "subunitcolor": "#506784"
          },
          "hoverlabel": {
           "align": "left"
          },
          "hovermode": "closest",
          "mapbox": {
           "style": "dark"
          },
          "paper_bgcolor": "rgb(17,17,17)",
          "plot_bgcolor": "rgb(17,17,17)",
          "polar": {
           "angularaxis": {
            "gridcolor": "#506784",
            "linecolor": "#506784",
            "ticks": ""
           },
           "bgcolor": "rgb(17,17,17)",
           "radialaxis": {
            "gridcolor": "#506784",
            "linecolor": "#506784",
            "ticks": ""
           }
          },
          "scene": {
           "xaxis": {
            "backgroundcolor": "rgb(17,17,17)",
            "gridcolor": "#506784",
            "gridwidth": 2,
            "linecolor": "#506784",
            "showbackground": true,
            "ticks": "",
            "zerolinecolor": "#C8D4E3"
           },
           "yaxis": {
            "backgroundcolor": "rgb(17,17,17)",
            "gridcolor": "#506784",
            "gridwidth": 2,
            "linecolor": "#506784",
            "showbackground": true,
            "ticks": "",
            "zerolinecolor": "#C8D4E3"
           },
           "zaxis": {
            "backgroundcolor": "rgb(17,17,17)",
            "gridcolor": "#506784",
            "gridwidth": 2,
            "linecolor": "#506784",
            "showbackground": true,
            "ticks": "",
            "zerolinecolor": "#C8D4E3"
           }
          },
          "shapedefaults": {
           "line": {
            "color": "#f2f5fa"
           }
          },
          "sliderdefaults": {
           "bgcolor": "#C8D4E3",
           "bordercolor": "rgb(17,17,17)",
           "borderwidth": 1,
           "tickwidth": 0
          },
          "ternary": {
           "aaxis": {
            "gridcolor": "#506784",
            "linecolor": "#506784",
            "ticks": ""
           },
           "baxis": {
            "gridcolor": "#506784",
            "linecolor": "#506784",
            "ticks": ""
           },
           "bgcolor": "rgb(17,17,17)",
           "caxis": {
            "gridcolor": "#506784",
            "linecolor": "#506784",
            "ticks": ""
           }
          },
          "title": {
           "x": 0.05
          },
          "updatemenudefaults": {
           "bgcolor": "#506784",
           "borderwidth": 0
          },
          "xaxis": {
           "automargin": true,
           "gridcolor": "#283442",
           "linecolor": "#506784",
           "ticks": "",
           "title": {
            "standoff": 15
           },
           "zerolinecolor": "#283442",
           "zerolinewidth": 2
          },
          "yaxis": {
           "automargin": true,
           "gridcolor": "#283442",
           "linecolor": "#506784",
           "ticks": "",
           "title": {
            "standoff": 15
           },
           "zerolinecolor": "#283442",
           "zerolinewidth": 2
          }
         }
        },
        "title": {
         "text": "AI Actions"
        },
        "xaxis": {
         "anchor": "y",
         "domain": [
          0,
          1
         ],
         "title": {
          "text": "action"
         }
        },
        "yaxis": {
         "anchor": "x",
         "domain": [
          0,
          1
         ],
         "title": {
          "text": "count"
         }
        }
       }
      }
     },
     "metadata": {},
     "output_type": "display_data"
    },
    {
     "name": "stdout",
     "output_type": "stream",
     "text": [
      "\n",
      "AI Intervention: 7 high-risk customers\n"
     ]
    },
    {
     "data": {
      "text/html": [
       "<div>\n",
       "<style scoped>\n",
       "    .dataframe tbody tr th:only-of-type {\n",
       "        vertical-align: middle;\n",
       "    }\n",
       "\n",
       "    .dataframe tbody tr th {\n",
       "        vertical-align: top;\n",
       "    }\n",
       "\n",
       "    .dataframe thead th {\n",
       "        text-align: right;\n",
       "    }\n",
       "</style>\n",
       "<table border=\"1\" class=\"dataframe\">\n",
       "  <thead>\n",
       "    <tr style=\"text-align: right;\">\n",
       "      <th></th>\n",
       "      <th>Customer_ID</th>\n",
       "      <th>Churn_Prob</th>\n",
       "      <th>Total_Spend</th>\n",
       "    </tr>\n",
       "  </thead>\n",
       "  <tbody>\n",
       "    <tr>\n",
       "      <th>6</th>\n",
       "      <td>CUST031</td>\n",
       "      <td>0.938503</td>\n",
       "      <td>965.93</td>\n",
       "    </tr>\n",
       "    <tr>\n",
       "      <th>1</th>\n",
       "      <td>CUST067</td>\n",
       "      <td>0.928696</td>\n",
       "      <td>211.00</td>\n",
       "    </tr>\n",
       "    <tr>\n",
       "      <th>0</th>\n",
       "      <td>CUST003</td>\n",
       "      <td>0.895304</td>\n",
       "      <td>1078.93</td>\n",
       "    </tr>\n",
       "    <tr>\n",
       "      <th>2</th>\n",
       "      <td>CUST101</td>\n",
       "      <td>0.877743</td>\n",
       "      <td>227.45</td>\n",
       "    </tr>\n",
       "    <tr>\n",
       "      <th>5</th>\n",
       "      <td>CUST172</td>\n",
       "      <td>0.847335</td>\n",
       "      <td>0.00</td>\n",
       "    </tr>\n",
       "  </tbody>\n",
       "</table>\n",
       "</div>"
      ],
      "text/plain": [
       "  Customer_ID  Churn_Prob  Total_Spend\n",
       "6     CUST031    0.938503       965.93\n",
       "1     CUST067    0.928696       211.00\n",
       "0     CUST003    0.895304      1078.93\n",
       "2     CUST101    0.877743       227.45\n",
       "5     CUST172    0.847335         0.00"
      ]
     },
     "metadata": {},
     "output_type": "display_data"
    },
    {
     "name": "stdout",
     "output_type": "stream",
     "text": [
      "Saved → c:\\Users\\srija\\OneDrive\\Desktop\\OSI_SERVICE\\data\\churn_interventions.csv\n"
     ]
    }
   ],
   "source": [
    "# CELL 5: XGBoost + SHAP + Visuals (FINAL — SUMMARY PLOT)\n",
    "import pandas as pd\n",
    "import numpy as np\n",
    "import xgboost as xgb\n",
    "import shap\n",
    "import matplotlib.pyplot as plt\n",
    "import plotly.express as px\n",
    "import plotly.graph_objects as go\n",
    "from sklearn.model_selection import train_test_split\n",
    "from sklearn.metrics import classification_report, roc_auc_score, roc_curve\n",
    "\n",
    "print(\"Starting XGBoost + SHAP + Visuals (FINAL)...\\n\")\n",
    "\n",
    "# --- 1. Create Customer_ID ---\n",
    "order_df['Customer_ID'] = order_df['Order_ID'].str.extract(r'(\\d+)')[0].astype(int)\n",
    "order_df['Customer_ID'] = 'CUST' + order_df['Customer_ID'].astype(str).str.zfill(3)\n",
    "\n",
    "# --- 2. Define Churn ---\n",
    "latest_date = pd.to_datetime(order_df['Order_Date']).max()\n",
    "customer_last = order_df.groupby('Customer_ID')['Order_Date'].max().reset_index()\n",
    "customer_last['Days_Since_Last'] = (latest_date - pd.to_datetime(customer_last['Order_Date'])).dt.days\n",
    "customer_last['Churned'] = (customer_last['Days_Since_Last'] > 30).astype(int)\n",
    "\n",
    "if 'Churned' in order_df.columns:\n",
    "    order_df = order_df.drop(columns=['Churned'])\n",
    "order_df = order_df.merge(customer_last[['Customer_ID', 'Churned']], on='Customer_ID', how='left')\n",
    "print(f\"Churn rate: {order_df['Churned'].mean():.1%}\")\n",
    "\n",
    "# --- 3. CLEAN DATA ---\n",
    "order_df['Quality_Issue'] = order_df['Quality_Issue'].map({'Perfect': 0, 'Minor': 1, 'Major': 2}).fillna(0)\n",
    "order_df['urgency'] = order_df['urgency'].map({'Low': 0, 'Medium': 1, 'High': 2}).fillna(0)\n",
    "order_df['action'] = order_df['action'].map({'None': 0, 'Free Shipping': 1, '₹500 Voucher': 2, 'Call Customer': 3}).fillna(0)\n",
    "\n",
    "numeric_cols = ['Delay_Days', 'Total_Cost', 'Customer_Rating', 'Distance_KM', 'Is_Delayed', 'Severe_Delay']\n",
    "for col in numeric_cols:\n",
    "    if col in order_df.columns:\n",
    "        order_df[col] = pd.to_numeric(order_df[col], errors='coerce').fillna(0)\n",
    "\n",
    "# --- 4. Features ---\n",
    "feat_df = order_df.groupby('Customer_ID').agg(\n",
    "    Total_Orders=('Order_ID', 'count'),\n",
    "    Avg_Delay=('Delay_Days', 'mean'),\n",
    "    Total_Spend=('Total_Cost', 'sum'),\n",
    "    Avg_Rating=('Customer_Rating', 'mean'),\n",
    "    Damage_Rate=('Quality_Issue', lambda x: (x > 0).mean()),\n",
    "    Delay_Rate=('Is_Delayed', 'mean'),\n",
    "    Severe_Delay_Rate=('Severe_Delay', 'mean'),\n",
    "    Avg_Distance=('Distance_KM', 'mean'),\n",
    "    Priority_Express=('Priority', lambda x: (x == 'Express').mean()),\n",
    "    Segment_SMB=('Customer_Segment', lambda x: (x == 'SMB').mean()),\n",
    "    Segment_Individual=('Customer_Segment', lambda x: (x == 'Individual').mean()),\n",
    "    Has_Feedback=('Feedback_Text', lambda x: x.notna().mean()),\n",
    "    AI_Urgency_High=('urgency', lambda x: (x == 2).sum()),\n",
    "    AI_Action_Voucher=('action', lambda x: (x == 2).sum()),\n",
    "    Churned=('Churned', 'max')\n",
    ").reset_index()\n",
    "\n",
    "feat_cols = feat_df.columns.drop(['Customer_ID', 'Churned'])\n",
    "feat_df[feat_cols] = feat_df[feat_cols].astype(float)\n",
    "\n",
    "print(f\"Feature matrix: {feat_df.shape[0]} customers, {feat_df.shape[1]} features\")\n",
    "\n",
    "# --- 5. Train XGBoost ---\n",
    "X = feat_df.drop(columns=['Customer_ID', 'Churned'])\n",
    "y = feat_df['Churned']\n",
    "\n",
    "X_train, X_test, y_train, y_test = train_test_split(X, y, test_size=0.2, random_state=42, stratify=y)\n",
    "\n",
    "model = xgb.XGBClassifier(\n",
    "    n_estimators=200,\n",
    "    max_depth=6,\n",
    "    learning_rate=0.05,\n",
    "    random_state=42,\n",
    "    disable_default_eval_metric=True,\n",
    "    eval_metric=None\n",
    ")\n",
    "model.fit(X_train, y_train)\n",
    "\n",
    "y_pred = model.predict(X_test)\n",
    "y_prob = model.predict_proba(X_test)[:, 1]\n",
    "\n",
    "print(f\"\\nAUC: {roc_auc_score(y_test, y_prob):.3f}\")\n",
    "print(classification_report(y_test, y_pred))\n",
    "\n",
    "# --- 6. SHAP — FINAL: SUMMARY PLOT (BULLETPROOF) ---\n",
    "explainer = shap.Explainer(model.predict_proba, X_train.values, feature_names=X.columns)\n",
    "shap_values = explainer(X_test.values)\n",
    "\n",
    "# Use summary_plot (handles zero SHAP gracefully)\n",
    "shap.summary_plot(shap_values[:, :, 1], X_test, max_display=5, show=False)\n",
    "plt.title(\"Top 5 Churn Drivers\")\n",
    "plt.tight_layout()\n",
    "plt.show()\n",
    "\n",
    "# --- 7. Visuals ---\n",
    "fpr, tpr, _ = roc_curve(y_test, y_prob)\n",
    "fig = go.Figure()\n",
    "fig.add_trace(go.Scatter(x=fpr, y=tpr, mode='lines', name=f'AUC = {roc_auc_score(y_test, y_prob):.3f}'))\n",
    "fig.add_trace(go.Scatter(x=[0,1], y=[0,1], mode='lines', line=dict(dash='dash')))\n",
    "fig.update_layout(title=\"ROC Curve\", template=\"plotly_dark\")\n",
    "fig.show()\n",
    "\n",
    "risk_df = X_test.copy()\n",
    "risk_df['Churn_Prob'] = y_prob\n",
    "risk_df['Risk_Level'] = pd.cut(risk_df['Churn_Prob'], [0, 0.3, 0.7, 1.0], labels=['Low', 'Medium', 'High'])\n",
    "fig = px.histogram(risk_df, x='Churn_Prob', color='Risk_Level', title=\"Churn Risk\", template=\"plotly_dark\")\n",
    "fig.show()\n",
    "\n",
    "fig = px.scatter(order_df, x='Delay_Days', y='Total_Cost', color='Churned', title=\"Delay vs Cost\")\n",
    "fig.update_layout(template=\"plotly_dark\")\n",
    "fig.show()\n",
    "\n",
    "fig = px.bar(order_df['action'].value_counts().reset_index(), x='action', y='count', title=\"AI Actions\")\n",
    "fig.update_layout(template=\"plotly_dark\")\n",
    "fig.show()\n",
    "\n",
    "# --- 8. Intervention ---\n",
    "high_risk = risk_df[risk_df['Churn_Prob'] > 0.7].copy()\n",
    "\n",
    "# FIX: Add Customer_ID back\n",
    "high_risk = high_risk.reset_index()\n",
    "high_risk = high_risk.merge(feat_df[['Customer_ID']], left_on='index', right_index=True, how='left')\n",
    "high_risk = high_risk.drop(columns=['index'])  # clean up\n",
    "\n",
    "high_risk = high_risk.sort_values('Churn_Prob', ascending=False)\n",
    "\n",
    "print(f\"\\nAI Intervention: {len(high_risk)} high-risk customers\")\n",
    "display(high_risk[['Customer_ID', 'Churn_Prob', 'Total_Spend']].head())\n",
    "\n",
    "intervention_path = DATA_PATH / \"churn_interventions.csv\"\n",
    "high_risk[['Customer_ID', 'Churn_Prob', 'Total_Spend']].to_csv(intervention_path, index=False)\n",
    "print(f\"Saved → {intervention_path}\")"
   ]
  }
 ],
 "metadata": {
  "kernelspec": {
   "display_name": ".venv",
   "language": "python",
   "name": "python3"
  },
  "language_info": {
   "codemirror_mode": {
    "name": "ipython",
    "version": 3
   },
   "file_extension": ".py",
   "mimetype": "text/x-python",
   "name": "python",
   "nbconvert_exporter": "python",
   "pygments_lexer": "ipython3",
   "version": "3.13.5"
  }
 },
 "nbformat": 4,
 "nbformat_minor": 5
}
